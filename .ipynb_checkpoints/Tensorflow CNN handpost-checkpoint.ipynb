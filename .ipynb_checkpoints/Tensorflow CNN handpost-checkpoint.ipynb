{
 "cells": [
  {
   "cell_type": "code",
   "execution_count": 1,
   "metadata": {},
   "outputs": [
    {
     "name": "stderr",
     "output_type": "stream",
     "text": [
      "C:\\Users\\Wei Han Chen\\AppData\\Local\\conda\\conda\\envs\\tensorflow\\lib\\site-packages\\h5py\\__init__.py:36: FutureWarning: Conversion of the second argument of issubdtype from `float` to `np.floating` is deprecated. In future, it will be treated as `np.float64 == np.dtype(float).type`.\n",
      "  from ._conv import register_converters as _register_converters\n"
     ]
    }
   ],
   "source": [
    "import tensorflow as tf\n",
    "import matplotlib.pyplot as plt\n",
    "import matplotlib.patches as patches\n",
    "\n",
    "from matplotlib.image import imread\n",
    "import numpy as np\n",
    "%matplotlib inline\n"
   ]
  },
  {
   "cell_type": "code",
   "execution_count": 2,
   "metadata": {
    "collapsed": true
   },
   "outputs": [],
   "source": [
    "import os\n",
    "import json\n",
    "from skimage.color import rgb2gray\n",
    "from skimage.transform import resize\n",
    "import math\n",
    "import random\n",
    "import copy"
   ]
  },
  {
   "cell_type": "markdown",
   "metadata": {},
   "source": [
    "# Get Image Data"
   ]
  },
  {
   "cell_type": "code",
   "execution_count": 3,
   "metadata": {
    "collapsed": true
   },
   "outputs": [],
   "source": [
    "image_data_directory = \"Dataset/Color\"\n",
    "annotation_url = 'Dataset/annotation.json'\n",
    "num_classes = 3"
   ]
  },
  {
   "cell_type": "code",
   "execution_count": 4,
   "metadata": {
    "collapsed": true
   },
   "outputs": [],
   "source": [
    "with open(annotation_url) as annotation:\n",
    "    annotation_data = json.load(annotation)"
   ]
  },
  {
   "cell_type": "code",
   "execution_count": 5,
   "metadata": {
    "collapsed": true
   },
   "outputs": [],
   "source": [
    "colors = [\n",
    "\t\t[100.,  100.,  100.], \n",
    "\t\t[100.,    0.,    0.],\n",
    "\t\t[150.,    0.,    0.],\n",
    "\t\t[200.,    0.,    0.],\n",
    "\t\t[255.,    0.,    0.],\n",
    "\t\t[100.,  100.,    0.],\n",
    "\t\t[150.,  150.,    0.],\n",
    "\t\t[200.,  200.,    0.],\n",
    "\t\t[255.,  255.,    0.],\n",
    "\t\t[  0.,  100.,   50.],\n",
    "\t\t[  0.,  150.,   75.],\n",
    "\t\t[  0.,  200.,  100.],\n",
    "\t\t[  0.,  255.,  125.],\n",
    "\t\t[  0.,   50.,  100.],\n",
    "\t\t[  0.,   75.,  150.],\n",
    "\t\t[  0.,  100.,  200.],\n",
    "\t\t[  0.,  125.,  255.],\n",
    "\t\t[100.,    0.,  100.],\n",
    "\t\t[150.,    0.,  150.],\n",
    "        [200.,    0.,  200.],\n",
    "        [255.,    0.,  255.]]\n",
    "\n",
    "colors = np.divide(np.array(colors), 255)\n"
   ]
  },
  {
   "cell_type": "code",
   "execution_count": 6,
   "metadata": {
    "collapsed": true
   },
   "outputs": [],
   "source": [
    "def getImageData(image, pos, resize_ratio_x, resize_ratio_y, name):\n",
    "    \n",
    "    newpos_x = pos[:,0] / resize_ratio_x\n",
    "    newpos_y = pos[:,1] / resize_ratio_y\n",
    "    \n",
    "    top_left_x = np.amin(newpos_x) - 2\n",
    "    top_left_y = np.amin(newpos_y) - 2\n",
    "    \n",
    "    width = np.amax(newpos_x) - top_left_x + 2\n",
    "    height = np.amax(newpos_y) - top_left_y + 2\n",
    "\n",
    "    return top_left_x, top_left_y, width, height"
   ]
  },
  {
   "cell_type": "code",
   "execution_count": 7,
   "metadata": {
    "collapsed": true
   },
   "outputs": [],
   "source": [
    "def getCropImageData(image, pos, resize_ratio_x, resize_ratio_y,  name):\n",
    "    \n",
    "    newpos_x = pos[:,0] / resize_ratio_x\n",
    "    newpos_y = pos[:,1] / resize_ratio_y\n",
    "    \n",
    "    top_left_x = np.amin(newpos_x) - 10\n",
    "    top_left_y = np.amin(newpos_y) - 10\n",
    "    \n",
    "    width = np.amax(newpos_x) - top_left_x + 20\n",
    "    height = np.amax(newpos_y) - top_left_y + 20\n",
    "\n",
    "\n",
    "    return int(top_left_x), int(top_left_y), int(width), int(height)"
   ]
  },
  {
   "cell_type": "code",
   "execution_count": 8,
   "metadata": {
    "collapsed": true
   },
   "outputs": [],
   "source": [
    "def plotImageData(image, pos, resize_ratio_x, resize_ratio_y, name):\n",
    "    plt.figure(figsize=(20,10))\n",
    "#     image = rgb2gray(image)\n",
    "    plt.imshow(image)\n",
    "    \n",
    "    newpos_x = pos[:,0] / resize_ratio_x\n",
    "    newpos_y = pos[:,1] / resize_ratio_y\n",
    "    \n",
    "    top_left_x = np.amin(newpos_x) - 2\n",
    "    top_left_y = np.amin(newpos_y) - 2\n",
    "    \n",
    "    width = np.amax(newpos_x) - top_left_x + 2\n",
    "    height = np.amax(newpos_y) - top_left_y + 2\n",
    "\n",
    "    \n",
    "    rect = patches.Rectangle((top_left_x,top_left_y),width,height,linewidth=1,edgecolor='r',facecolor='none')\n",
    "    \n",
    "    plt.gca().add_patch(rect)\n",
    "    \n",
    "    plt.scatter(x=newpos_x, y=newpos_y, c=colors, s=10, alpha=0.7)\n",
    "    plt.show()\n",
    "    "
   ]
  },
  {
   "cell_type": "code",
   "execution_count": 69,
   "metadata": {
    "collapsed": true
   },
   "outputs": [],
   "source": [
    "def load_part_data(names, data_directory, annotation_data):\n",
    "\n",
    "    old_x = 1080\n",
    "    old_y = 1920\n",
    "    reshaped_x = 126\n",
    "    reshaped_y = 224\n",
    "    cropped_resize_x = 32\n",
    "    cropped_resize_y = 32\n",
    "    \n",
    "    allImages = np.empty((len(names), reshaped_x, reshaped_y, 3))\n",
    "    allCroppedImages = np.empty((len(names), cropped_resize_x, cropped_resize_y, 3))\n",
    "    allBoxs = np.empty((len(names), 4))\n",
    "    allLabels = []\n",
    "    \n",
    "    for i in range(len(names)):\n",
    "        name = names[i]\n",
    "        label = 1 if name[-1] == 'L' else 2\n",
    "        \n",
    "        # get default but resized images\n",
    "            \n",
    "#         image = imread(data_directory + \"/\" + name[:-2] + \".jpg\")\n",
    "        path = data_directory + \"/\" + name[:-2] + \".jpg\"\n",
    "        \n",
    "        image = tf.keras.preprocessing.image.load_img(path, target_size=(reshaped_x, reshaped_y))\n",
    "        image = tf.keras.preprocessing.image.img_to_array(image)\n",
    "        \n",
    "        pos = np.array(annotation_data[name])\n",
    "\n",
    "        resize_ratio_x = old_x / reshaped_x\n",
    "        resize_ratio_y = old_y / reshaped_y\n",
    "                                                      \n",
    "#         resized_image = tf.image.resize_images(images=image,size=[reshaped_x, reshaped_y])\n",
    "                                                      \n",
    "#         resized_image = resize(image, (reshaped_x, reshaped_y, 3))\n",
    "        \n",
    "                                                      \n",
    "                                                      \n",
    "        top_x, top_y, width, height = getImageData(image, pos, \n",
    "                                        resize_ratio_x, resize_ratio_y, name)        \n",
    "        boundingBox = np.array([top_x, top_y, width, height])\n",
    "        \n",
    "        newLabel = np.array([label])\n",
    "        \n",
    "        allImages[i] = image\n",
    "        allBoxs[i] = boundingBox\n",
    "        \n",
    "        allLabels.append(newLabel) \n",
    "        \n",
    "\n",
    "        # get cropped images\n",
    "        \n",
    "        top_x, top_y, width, height = getCropImageData(image, pos, resize_ratio_x, resize_ratio_y,  name)    \n",
    "        \n",
    "        cropped_image = image[top_y: top_y + height, top_x: top_x + width, :]\n",
    "                \n",
    "        \n",
    "        \n",
    "        cropped_image = resize(cropped_image / 255, (cropped_resize_x, cropped_resize_y, 3)) * 255\n",
    "        \n",
    "        allCroppedImages[i] = cropped_image\n",
    "        \n",
    "    \n",
    "    print(allImages.shape)\n",
    "    print(allBoxs.shape)\n",
    "    \n",
    "    return allImages, allCroppedImages, np.concatenate(allLabels), allBoxs\n",
    "        \n"
   ]
  },
  {
   "cell_type": "code",
   "execution_count": 70,
   "metadata": {
    "collapsed": true
   },
   "outputs": [],
   "source": [
    "def load_data(data_directory, annotation_data):\n",
    "    names = list(annotation_data.keys())\n",
    "\n",
    "    print(\"Get train\")\n",
    "    train_data = np.array(names[:1000])\n",
    "    X_train, X_crop_train, Y_train_label, Y_train_box = load_part_data(train_data, data_directory, annotation_data)\n",
    "    \n",
    "    \n",
    "    print(\"Get valid\")\n",
    "    valid_data = np.array(names[2000:2500])\n",
    "    X_val, X_crop_val, Y_val_label, Y_val_box = load_part_data(valid_data, data_directory, annotation_data)\n",
    "    \n",
    "    print(\"Get test\")\n",
    "    test_data = np.array(names[3000:3500])\n",
    "    X_test, X_crop_test, Y_test_label, Y_test_box = load_part_data(test_data, data_directory, annotation_data)\n",
    "    \n",
    "    \n",
    "    return (X_train, X_crop_train, Y_train_label, Y_train_box, \n",
    "            X_val, X_crop_val, Y_val_label, Y_val_box, \n",
    "            X_test, X_crop_test, Y_test_label, Y_test_box)\n",
    "\n",
    "            "
   ]
  },
  {
   "cell_type": "code",
   "execution_count": 71,
   "metadata": {
    "scrolled": false
   },
   "outputs": [
    {
     "name": "stdout",
     "output_type": "stream",
     "text": [
      "Get train\n"
     ]
    },
    {
     "name": "stderr",
     "output_type": "stream",
     "text": [
      "C:\\Users\\Wei Han Chen\\AppData\\Local\\conda\\conda\\envs\\tensorflow\\lib\\site-packages\\skimage\\transform\\_warps.py:84: UserWarning: The default mode, 'constant', will be changed to 'reflect' in skimage 0.15.\n",
      "  warn(\"The default mode, 'constant', will be changed to 'reflect' in \"\n"
     ]
    },
    {
     "name": "stdout",
     "output_type": "stream",
     "text": [
      "(1000, 126, 224, 3)\n",
      "(1000, 4)\n",
      "Get valid\n",
      "(500, 126, 224, 3)\n",
      "(500, 4)\n",
      "Get test\n",
      "(500, 126, 224, 3)\n",
      "(500, 4)\n"
     ]
    }
   ],
   "source": [
    "(X_train, X_crop_train, Y_train_label, Y_train_box, \n",
    " X_val, X_crop_val, Y_val_label, Y_val_box, \n",
    " X_test, X_crop_test, Y_test_label, Y_test_box) = load_data(image_data_directory, annotation_data)"
   ]
  },
  {
   "cell_type": "code",
   "execution_count": null,
   "metadata": {
    "collapsed": true
   },
   "outputs": [],
   "source": []
  },
  {
   "cell_type": "code",
   "execution_count": null,
   "metadata": {
    "collapsed": true
   },
   "outputs": [],
   "source": []
  },
  {
   "cell_type": "code",
   "execution_count": null,
   "metadata": {
    "collapsed": true
   },
   "outputs": [],
   "source": []
  },
  {
   "cell_type": "code",
   "execution_count": 12,
   "metadata": {},
   "outputs": [
    {
     "name": "stdout",
     "output_type": "stream",
     "text": [
      "(1000, 126, 224, 3)\n",
      "(1000, 32, 32, 3)\n",
      "(1000,)\n",
      "(1000, 4)\n",
      "(500, 126, 224, 3)\n",
      "(500, 32, 32, 3)\n",
      "(500,)\n",
      "(500, 4)\n",
      "(500, 126, 224, 3)\n",
      "(500, 32, 32, 3)\n",
      "(500,)\n",
      "(500, 4)\n"
     ]
    }
   ],
   "source": [
    "print(X_train.shape)\n",
    "print(X_crop_train.shape)\n",
    "print(Y_train_label.shape)\n",
    "print(Y_train_box.shape)\n",
    "\n",
    "print(X_val.shape)\n",
    "print(X_crop_val.shape)\n",
    "print(Y_val_label.shape)\n",
    "print(Y_val_box.shape)\n",
    "\n",
    "print(X_test.shape)\n",
    "print(X_crop_test.shape)\n",
    "print(Y_test_label.shape)\n",
    "print(Y_test_box.shape)"
   ]
  },
  {
   "cell_type": "code",
   "execution_count": null,
   "metadata": {
    "scrolled": false
   },
   "outputs": [],
   "source": []
  },
  {
   "cell_type": "code",
   "execution_count": 72,
   "metadata": {},
   "outputs": [
    {
     "data": {
      "text/plain": [
       "array([[[[182.03125435, 191.37500379, 200.23828451],\n",
       "         [182.41406683, 189.36719141, 199.34180019],\n",
       "         [180.94141066, 189.69726952, 198.79492523],\n",
       "         ...,\n",
       "         [167.87500519, 174.87500478, 180.87500442],\n",
       "         [165.90430219, 172.90430177, 178.90430141],\n",
       "         [164.96875537, 171.96875495, 177.96875459]],\n",
       "\n",
       "        [[181.74609812, 189.81250389, 197.65430029],\n",
       "         [182.54492619, 188.82422269, 199.00000334],\n",
       "         [179.570317  , 188.36523835, 197.44726906],\n",
       "         ...,\n",
       "         [167.25977085, 174.25977044, 180.25977008],\n",
       "         [165.56250533, 172.56250491, 178.56250456],\n",
       "         [164.18750541, 171.187505  , 177.18750464]],\n",
       "\n",
       "        [[165.79101984, 174.41601933, 182.19726886],\n",
       "         [163.10937923, 170.82031627, 176.91406591],\n",
       "         [161.34375484, 170.21875431, 176.37695707],\n",
       "         ...,\n",
       "         [164.60547414, 171.79297371, 177.69922336],\n",
       "         [165.32227097, 172.50977054, 178.41602019],\n",
       "         [164.96484912, 172.00000495, 177.98242647]],\n",
       "\n",
       "        ...,\n",
       "\n",
       "        [[161.15430146, 163.85547317, 157.65820784],\n",
       "         [112.92187766, 114.8925826 , 113.14844014],\n",
       "         [ 63.37695355,  66.14453495,  55.95507866],\n",
       "         ...,\n",
       "         [163.0878961 , 168.08789581, 164.08789604],\n",
       "         [163.00000548, 168.00000519, 164.00000542],\n",
       "         [163.00000548, 168.00000519, 164.00000542]],\n",
       "\n",
       "        [[157.61523757, 159.49219058, 158.04101879],\n",
       "         [122.40039311, 124.11328363, 123.81054928],\n",
       "         [107.26367308, 108.94140736, 106.36523563],\n",
       "         ...,\n",
       "         [163.00000548, 168.00000519, 164.00000542],\n",
       "         [163.00000548, 168.00000519, 164.00000542],\n",
       "         [162.72070863, 167.72070833, 163.16211485]],\n",
       "\n",
       "        [[126.96289659, 128.96289647, 127.96289653],\n",
       "         [127.71484967, 129.71484956, 128.71484961],\n",
       "         [122.17773506, 123.240235  , 125.05273489],\n",
       "         ...,\n",
       "         [163.00000548, 168.00000519, 164.00000542],\n",
       "         [163.00000548, 168.00000519, 164.00000542],\n",
       "         [162.18750553, 167.18750523, 161.56250557]]],\n",
       "\n",
       "\n",
       "       [[[  6.22216803,  14.34082041,  18.71337969],\n",
       "         [  2.06201182,  14.43017607,  36.24316421],\n",
       "         [  7.50341816,  28.82519608,  74.35742241],\n",
       "         ...,\n",
       "         [154.60938098, 160.60938063, 156.60938086],\n",
       "         [155.62207624, 162.38770083, 156.09082621],\n",
       "         [156.90723241, 162.0634821 , 155.98535746]],\n",
       "\n",
       "        [[  3.75292978,  13.00293013,  23.92089945],\n",
       "         [  5.53125015,  15.05224641,  27.20263753],\n",
       "         [  3.93896502,  14.79687534,  24.65332128],\n",
       "         ...,\n",
       "         [154.328131  , 160.49951735, 155.98535746],\n",
       "         [154.59912708, 161.43066964, 154.93604112],\n",
       "         [156.55029884, 161.70654853, 155.62842389]],\n",
       "\n",
       "        [[  4.42626973,  22.42187556,  54.70410388],\n",
       "         [  3.59765634,  23.73925851,  56.01806865],\n",
       "         [  6.45117205,  25.42187628,  61.64404488],\n",
       "         ...,\n",
       "         [153.32373653, 159.93311114, 154.10498648],\n",
       "         [154.70361926, 161.70361884, 154.70361926],\n",
       "         [155.92676372, 161.08301341, 155.00488877]],\n",
       "\n",
       "        ...,\n",
       "\n",
       "        [[ 41.87011748,  42.87011742,  25.80761792],\n",
       "         [ 41.26318392,  42.48291041,  25.3105474 ],\n",
       "         [ 39.07812546,  41.01562535,  23.89941477],\n",
       "         ...,\n",
       "         [  9.32373086,  12.32373068,   5.32373063],\n",
       "         [  9.89013708,  12.8901369 ,   5.89013684],\n",
       "         [ 14.1772462 ,  16.25537195,   4.70361337]],\n",
       "\n",
       "        [[ 24.2592778 ,  25.25927774,   7.25927751],\n",
       "         [ 24.00000047,  25.00000041,   7.00000006],\n",
       "         [ 23.32861379,  24.32861373,   7.10986338],\n",
       "         ...,\n",
       "         [  9.60937538,  12.6093752 ,   5.60937514],\n",
       "         [ 10.00000035,  13.00000018,   6.00000012],\n",
       "         [ 15.93457094,  18.01269606,   7.32519567]],\n",
       "\n",
       "        [[ 23.02294975,  24.02294969,   7.83544962],\n",
       "         [ 22.18750058,  23.18750052,   7.00000006],\n",
       "         [ 21.40625062,  22.40625056,   6.29199229],\n",
       "         ...,\n",
       "         [  9.60937538,  12.6093752 ,   5.60937514],\n",
       "         [ 10.00000035,  13.00000018,   6.00000012],\n",
       "         [ 15.61767668,  17.69580155,   7.00830088]]],\n",
       "\n",
       "\n",
       "       [[[144.38159765, 147.60034746, 154.27222206],\n",
       "         [101.34009001, 104.85107613, 109.48242351],\n",
       "         [ 62.73510943,  66.90429864,  66.99853691],\n",
       "         ...,\n",
       "         [159.95044512, 164.95044482, 160.73169507],\n",
       "         [159.89063067, 164.89063037, 160.67188062],\n",
       "         [159.89063067, 164.89063037, 160.67188062]],\n",
       "\n",
       "        [[170.86084486, 175.86084456, 179.86084432],\n",
       "         [135.49878393, 140.49878363, 141.87378355],\n",
       "         [ 79.14941592,  84.69629059,  77.41504103],\n",
       "         ...,\n",
       "         [159.54688069, 164.54688039, 158.54688075],\n",
       "         [159.22046469, 164.2204644 , 158.6613827 ],\n",
       "         [159.3281307 , 164.3281304 , 158.98438072]],\n",
       "\n",
       "        [[150.43213144, 154.82544542, 157.42407808],\n",
       "         [169.84277738, 174.10791385, 177.28589217],\n",
       "         [115.40503276, 120.95190743, 118.6438021 ],\n",
       "         ...,\n",
       "         [159.24780844, 164.24780814, 158.2478085 ],\n",
       "         [159.30444906, 164.30444877, 158.91333581],\n",
       "         [159.4531307 , 164.4531304 , 159.3593807 ]],\n",
       "\n",
       "        ...,\n",
       "\n",
       "        [[ 12.49731466,  15.497315  ,   6.49731454],\n",
       "         [ 12.57055684,  15.57055732,   6.57055681],\n",
       "         [ 11.60717799,  14.60717824,   5.60717799],\n",
       "         ...,\n",
       "         [  9.29907266,  12.29907248,   5.29907242],\n",
       "         [  7.53979528,  11.14868193,   4.14868187],\n",
       "         [ 47.74243226,  49.86743216,  34.44824357]],\n",
       "\n",
       "        [[ 11.29223661,  14.29223643,   5.29223649],\n",
       "         [ 11.65625026,  14.65625039,   6.09716819],\n",
       "         [ 11.35937527,  14.35937552,   6.70312522],\n",
       "         ...,\n",
       "         [ 10.64917024,  13.64917041,   6.64917018],\n",
       "         [  6.98437521,  11.32812527,   4.32812522],\n",
       "         [ 36.81005984,  40.0288097 ,  24.12255946]],\n",
       "\n",
       "        [[ 11.00000029,  14.00000012,   5.00000018],\n",
       "         [ 10.48730501,  14.07177749,   5.72802749],\n",
       "         [  8.28393577,  13.06518577,   6.06518568],\n",
       "         ...,\n",
       "         [  9.3227543 ,  12.32275418,   5.32275409],\n",
       "         [  7.29052754,   9.83911169,   4.03588891],\n",
       "         [ 24.09082081,  27.8105472 ,  13.68554705]]],\n",
       "\n",
       "\n",
       "       ...,\n",
       "\n",
       "\n",
       "       [[[ 32.61230654,  35.89941572,  28.89941424],\n",
       "         [ 34.26269707,  39.05761866,  32.05761799],\n",
       "         [ 20.42871147,  24.98925876,  17.98925805],\n",
       "         ...,\n",
       "         [166.74707557, 173.71777828, 179.71777792],\n",
       "         [165.59375533, 172.12500494, 178.12500458],\n",
       "         [164.51953664, 170.18750506, 176.1875047 ]],\n",
       "\n",
       "        [[ 27.84765705,  31.55078183,  19.62890685],\n",
       "         [ 23.64648543,  26.89257899,  15.36621107],\n",
       "         [ 23.37207138,  23.06933703,  12.50976578],\n",
       "         ...,\n",
       "         [166.08105999, 172.95605958, 178.95605922],\n",
       "         [167.34473179, 172.34473149, 178.34473113],\n",
       "         [162.68359925, 169.30859886, 175.3085985 ]],\n",
       "\n",
       "        [[ 16.78027431,  16.78027431,   6.78027351],\n",
       "         [ 14.62402395,  14.62402395,   3.49902354],\n",
       "         [ 16.7929696 ,  16.7929696 ,   4.79296892],\n",
       "         ...,\n",
       "         [164.89551318, 171.89551277, 177.89551241],\n",
       "         [163.58496639, 170.58496597, 176.58496561],\n",
       "         [159.25000571, 166.25000529, 172.25000493]],\n",
       "\n",
       "        ...,\n",
       "\n",
       "        [[130.76270247, 131.76270266, 126.76269654],\n",
       "         [130.95801463, 131.95801515, 126.9580106 ],\n",
       "         [128.29688255, 129.29688249, 124.29687519],\n",
       "         ...,\n",
       "         [162.22363834, 167.22363804, 163.22363828],\n",
       "         [163.00000548, 168.00000519, 164.00000542],\n",
       "         [162.32715396, 167.32715366, 163.3271539 ]],\n",
       "\n",
       "        [[131.35840581, 132.65528073, 128.24902623],\n",
       "         [128.71191858, 129.84180133, 125.10156625],\n",
       "         [125.86230704, 126.86230698, 121.86230516],\n",
       "         ...,\n",
       "         [162.00000554, 167.00000525, 163.00000548],\n",
       "         [162.00000554, 167.00000525, 162.12500554],\n",
       "         [162.57129457, 167.57129427, 163.19629453]],\n",
       "\n",
       "        [[139.28613971, 141.28613959, 139.81738934],\n",
       "         [139.34180377, 141.20996772, 139.47754517],\n",
       "         [139.26465534, 141.03028023, 139.09277868],\n",
       "         ...,\n",
       "         [161.95215398, 166.95215369, 162.95215392],\n",
       "         [161.56934151, 166.56934121, 162.36426333],\n",
       "         [161.37793527, 166.37793497, 162.29004459]]],\n",
       "\n",
       "\n",
       "       [[[193.65625366, 197.65625342, 206.90625287],\n",
       "         [197.46094093, 201.46094069, 212.46094004],\n",
       "         [200.93750322, 204.93750298, 215.93750233],\n",
       "         ...,\n",
       "         [189.92969138, 196.92969096, 202.9296906 ],\n",
       "         [189.69531639, 196.69531598, 202.69531562],\n",
       "         [190.82812882, 195.20312856, 203.82812805]],\n",
       "\n",
       "        [[191.68750377, 194.5625036 , 205.35937796],\n",
       "         [192.29687874, 195.17187857, 206.73437788],\n",
       "         [194.83594109, 197.71094091, 209.27344023],\n",
       "         ...,\n",
       "         [188.50000396, 195.92187852, 202.13281565],\n",
       "         [187.25000404, 195.37500355, 201.93750316],\n",
       "         [189.00781643, 193.52344116, 202.21875315]],\n",
       "\n",
       "        [[192.06250375, 194.06250363, 206.06250292],\n",
       "         [193.09375369, 194.39062861, 206.3906279 ],\n",
       "         [193.71875365, 193.84375365, 205.84375293],\n",
       "         ...,\n",
       "         [186.10156661, 193.85156614, 200.22656576],\n",
       "         [184.85156668, 193.85156614, 200.85156573],\n",
       "         [185.05469167, 192.14062875, 198.42969087]],\n",
       "\n",
       "        ...,\n",
       "\n",
       "        [[158.29688076, 162.06250554, 161.50000557],\n",
       "         [158.12500577, 160.00781816, 158.71875574],\n",
       "         [110.66406635, 102.15625436,  85.35937799],\n",
       "         ...,\n",
       "         [ 15.47656308,  18.66406329,   7.64843783],\n",
       "         [ 14.2656251 ,  17.45312586,   6.51562512],\n",
       "         [ 14.75781257,  20.40625068,  10.17968776]],\n",
       "\n",
       "        [[160.82031811, 166.47656778, 167.94531769],\n",
       "         [162.25781803, 166.95313025, 166.67969276],\n",
       "         [115.10937859, 102.18750332,  88.71094029],\n",
       "         ...,\n",
       "         [ 11.82812512,  17.82812558,   6.57812533],\n",
       "         [ 12.84375018,  18.84375078,   8.84375042],\n",
       "         [ 12.94531268,  18.94531327,   7.96093774]],\n",
       "\n",
       "        [[161.66406806, 166.73438026, 170.01563007],\n",
       "         [162.54688051, 167.6875052 , 169.3984426 ],\n",
       "         [110.47656636, 100.81250207,  89.00781527],\n",
       "         ...,\n",
       "         [ 11.32031257,  15.79687556,   5.05468759],\n",
       "         [ 11.39843763,  17.39843807,   7.39843779],\n",
       "         [ 11.65625026,  17.65625085,   7.65625016]]],\n",
       "\n",
       "\n",
       "       [[[ 23.47827198,  25.47827187,  11.47827185],\n",
       "         [ 20.5903327 ,  22.59033258,   8.5903322 ],\n",
       "         [ 23.82543993,  25.82543981,  11.8254397 ],\n",
       "         ...,\n",
       "         [174.00000483, 181.00000441, 187.34375403],\n",
       "         [173.32812987, 180.32812945, 186.44092206],\n",
       "         [171.52490732, 178.5249069 , 184.52490654]],\n",
       "\n",
       "        [[ 24.61962934,  26.61962922,  12.61962951],\n",
       "         [ 24.8027348 ,  26.80273468,  12.97192392],\n",
       "         [ 20.58178778,  22.58178766,   9.09741227],\n",
       "         ...,\n",
       "         [173.43604002, 181.46728954, 188.95166409],\n",
       "         [170.90308118, 178.93433071, 185.76782639],\n",
       "         [173.06445801, 180.17725055, 186.23364668]],\n",
       "\n",
       "        [[ 21.74829162,  23.7482915 ,   9.74829138],\n",
       "         [ 23.53027393,  25.53027435,  11.57641652],\n",
       "         [ 28.16821311,  30.16821373,  16.30883862],\n",
       "         ...,\n",
       "         [171.187505  , 181.04687941, 189.76562889],\n",
       "         [173.83496578, 183.11694764, 191.83569712],\n",
       "         [175.59570786, 182.81445743, 189.11182033]],\n",
       "\n",
       "        ...,\n",
       "\n",
       "        [[ 15.3439944 ,  18.34399495,   7.34399429],\n",
       "         [ 17.32812587,  20.32812569,   9.32812539],\n",
       "         [ 16.90625089,  19.90625071,  10.00000035],\n",
       "         ...,\n",
       "         [162.00000554, 168.00000519, 164.00000542],\n",
       "         [162.00000554, 168.00000519, 164.00000542],\n",
       "         [162.76538636, 168.765386  , 164.76538624]],\n",
       "\n",
       "        [[ 15.73095758,  18.73095781,   7.73095732],\n",
       "         [ 17.6535653 ,  20.65356512,   9.65356483],\n",
       "         [ 16.11157295,  19.11157303,   9.20532254],\n",
       "         ...,\n",
       "         [162.00000554, 168.00000519, 164.00000542],\n",
       "         [162.00000554, 168.00000519, 164.00000542],\n",
       "         [162.00000554, 168.00000519, 164.00000542]],\n",
       "\n",
       "        [[ 16.71264724,  19.71264721,   8.71264684],\n",
       "         [ 17.98706137,  20.9870612 ,   9.9870609 ],\n",
       "         [ 15.11035204,  18.11035195,   8.20410176],\n",
       "         ...,\n",
       "         [161.09424388, 167.09424352, 163.09424376],\n",
       "         [162.00000554, 168.00000519, 164.00000542],\n",
       "         [162.00000554, 168.00000519, 164.00000542]]]])"
      ]
     },
     "execution_count": 72,
     "metadata": {},
     "output_type": "execute_result"
    }
   ],
   "source": [
    "X_crop_train"
   ]
  },
  {
   "cell_type": "code",
   "execution_count": null,
   "metadata": {
    "collapsed": true
   },
   "outputs": [],
   "source": []
  },
  {
   "cell_type": "code",
   "execution_count": null,
   "metadata": {
    "collapsed": true
   },
   "outputs": [],
   "source": []
  },
  {
   "cell_type": "code",
   "execution_count": null,
   "metadata": {
    "collapsed": true
   },
   "outputs": [],
   "source": []
  },
  {
   "cell_type": "code",
   "execution_count": null,
   "metadata": {
    "collapsed": true
   },
   "outputs": [],
   "source": []
  },
  {
   "cell_type": "code",
   "execution_count": null,
   "metadata": {
    "collapsed": true
   },
   "outputs": [],
   "source": []
  },
  {
   "cell_type": "markdown",
   "metadata": {},
   "source": [
    "# Image Model\n",
    "\n",
    "image data will have size N x W x H x C\n",
    "\n",
    "N = number of images\n",
    "\n",
    "W = width\n",
    "\n",
    "H = height\n",
    "\n",
    "C = RGB\n",
    "\n"
   ]
  },
  {
   "cell_type": "code",
   "execution_count": 13,
   "metadata": {
    "collapsed": true
   },
   "outputs": [],
   "source": [
    "def run_model(session, predict, loss_val, Xd, yd,\n",
    "              epochs=1, batch_size=64, print_every=100,\n",
    "              training=None, plot_losses=False):\n",
    "    # have tensorflow compute accuracy\n",
    "    correct_prediction = tf.equal(tf.argmax(predict,1, output_type=tf.int32), Y_label)\n",
    "    accuracy = tf.reduce_mean(tf.cast(correct_prediction, tf.float32))\n",
    "    \n",
    "    # shuffle indicies\n",
    "    train_indicies = np.arange(Xd.shape[0])\n",
    "    np.random.shuffle(train_indicies)\n",
    "\n",
    "    training_now = training is not None\n",
    "    \n",
    "    # setting up variables we want to compute (and optimizing)\n",
    "    # if we have a training function, add that to things we compute\n",
    "    variables = [mean_loss,correct_prediction,accuracy]\n",
    "    if training_now:\n",
    "        variables[-1] = training\n",
    "    \n",
    "    # counter \n",
    "    iter_cnt = 0\n",
    "    for e in range(epochs):\n",
    "        # keep track of losses and accuracy\n",
    "        correct = 0\n",
    "        losses = []\n",
    "        # make sure we iterate over the dataset once\n",
    "        for i in range(int(math.ceil(Xd.shape[0]/batch_size))):\n",
    "            # generate indicies for the batch\n",
    "            start_idx = (i*batch_size)%Xd.shape[0]\n",
    "            idx = train_indicies[start_idx:start_idx+batch_size]\n",
    "            \n",
    "            # create a feed dictionary for this batch\n",
    "            feed_dict = {X: Xd[idx,:],\n",
    "                         Y_label: yd[idx],\n",
    "                         is_training: training_now }\n",
    "            # get batch size\n",
    "            actual_batch_size = yd[idx].shape[0]\n",
    "            \n",
    "            \n",
    "            # have tensorflow compute loss and correct predictions\n",
    "            # and (if given) perform a training step\n",
    "            loss, corr, _ = session.run(variables,feed_dict=feed_dict)\n",
    "            \n",
    "            \n",
    "            # aggregate performance stats\n",
    "            losses.append(loss*actual_batch_size)\n",
    "            correct += np.sum(corr)\n",
    "            \n",
    "            # print every now and then\n",
    "            if training_now and (iter_cnt % print_every) == 0:\n",
    "                print(\"Iteration {0}: with minibatch training loss = {1:.3g} and accuracy of {2:.2g}\"\\\n",
    "                      .format(iter_cnt,loss,np.sum(corr)/actual_batch_size))\n",
    "            iter_cnt += 1\n",
    "        total_correct = correct/Xd.shape[0]\n",
    "        total_loss = np.sum(losses)/Xd.shape[0]\n",
    "        print(\"Epoch {2}, Overall loss = {0:.3g} and accuracy of {1:.3g}\"\\\n",
    "              .format(total_loss,total_correct,e+1))\n",
    "        if plot_losses:\n",
    "            plt.plot(losses)\n",
    "            plt.grid(True)\n",
    "            plt.title('Epoch {} Loss'.format(e+1))\n",
    "            plt.xlabel('minibatch number')\n",
    "            plt.ylabel('minibatch loss')\n",
    "            plt.show()\n",
    "    return total_loss,total_correct"
   ]
  },
  {
   "cell_type": "code",
   "execution_count": null,
   "metadata": {
    "collapsed": true
   },
   "outputs": [],
   "source": []
  },
  {
   "cell_type": "code",
   "execution_count": 14,
   "metadata": {
    "collapsed": true
   },
   "outputs": [],
   "source": [
    "def my_model(X, y, is_training):\n",
    "    convW1 = tf.get_variable('convW1', [5,5,3,30])\n",
    "    convB1 = tf.get_variable('convB1', [30])\n",
    "    convW2 = tf.get_variable('convW2', [3,3,30,60])\n",
    "    convB2 = tf.get_variable('convB2', [60])\n",
    "    convW3 = tf.get_variable('convW3', [5,5,60, 120])\n",
    "    convB3 = tf.get_variable('convB3', [120]) \n",
    "    convW4 = tf.get_variable('convW4', [5,5,120, 100])\n",
    "    convB4 = tf.get_variable('convB4', [100]) \n",
    "    convW5 = tf.get_variable('convW5', [8,8, 100, 3])\n",
    "    convB5 = tf.get_variable('convB5', [3]) \n",
    "    \n",
    "    print(X.shape)\n",
    "    \n",
    "    a1 = tf.nn.conv2d(X, convW1, strides=[1,1,1,1], padding=\"SAME\") + convB1\n",
    "    \n",
    "    \n",
    "    h1_batched = tf.layers.batch_normalization(a1, center=True, scale=True, training=is_training)\n",
    "    \n",
    "    \n",
    "    h1 = tf.nn.elu(h1_batched)\n",
    "    h1_pooled = tf.nn.max_pool(h1, [1,2,2,1], [1,2,2,1], padding=\"VALID\")\n",
    "    \n",
    "    \n",
    "    \n",
    "    a2 = tf.nn.conv2d(h1_pooled, convW2, strides=[1,1,1,1], padding=\"SAME\") + convB2\n",
    "    h2_batched = tf.layers.batch_normalization(a2, center=True, scale=True, training=is_training)\n",
    "    h2 = tf.nn.elu(h2_batched)\n",
    "    h2_pooled = tf.nn.max_pool(h2, [1,2,2,1], [1,2,2,1], padding=\"VALID\")\n",
    "    \n",
    "    \n",
    "    a3 = tf.nn.conv2d(h2_pooled, convW3, strides=[1,1,1,1], padding=\"SAME\") + convB3\n",
    "    h3_batched = tf.layers.batch_normalization(a3, center=True, scale=True, training=is_training)\n",
    "    h3 = tf.nn.elu(h3_batched)\n",
    "    h3_pooled = tf.nn.max_pool(h3, [1,2,2,1], [1,2,2,1], padding=\"VALID\")\n",
    "    \n",
    "    a4 = tf.nn.conv2d(h3_pooled, convW4, strides=[1,1,1,1], padding=\"SAME\") + convB4\n",
    "    h4_batched = tf.layers.batch_normalization(a4, center=True, scale=True, training=is_training)\n",
    "    h4 = tf.nn.elu(h4_batched)\n",
    "    h4_pooled = tf.nn.max_pool(h4, [1,2,2,1], [1,2,2,1], padding=\"VALID\")\n",
    "            \n",
    "    a5 = tf.nn.conv2d(h4_pooled, convW5, strides=[1,1,1,1], padding=\"VALID\") + convB5\n",
    "    \n",
    "    h5_batched = tf.layers.batch_normalization(a5, center=True, scale=True, training=is_training)\n",
    "    h5 = tf.nn.elu(h5_batched)\n",
    "    \n",
    "    output = tf.reshape(h5, (-1,3))\n",
    "        \n",
    "    return output"
   ]
  },
  {
   "cell_type": "code",
   "execution_count": 15,
   "metadata": {},
   "outputs": [
    {
     "name": "stdout",
     "output_type": "stream",
     "text": [
      "(?, 130, 130, 3)\n"
     ]
    }
   ],
   "source": [
    "# remove old variables\n",
    "\n",
    "tf.reset_default_graph()\n",
    "X = tf.placeholder(tf.float32, [None, 130, 130, 3])\n",
    "Y_label = tf.placeholder(tf.int32, [None])\n",
    "is_training = tf.placeholder(tf.bool)\n",
    "\n",
    "print(X.shape)"
   ]
  },
  {
   "cell_type": "code",
   "execution_count": 16,
   "metadata": {
    "collapsed": true
   },
   "outputs": [],
   "source": [
    "# y_out = my_model(X, Y_label, is_training)\n",
    "# mean_loss = tf.reduce_mean(tf.losses.hinge_loss(tf.one_hot(Y_label, 3), logits=y_out))\n",
    "# optimizer = tf.train.RMSPropOptimizer(1e-2)\n",
    "# optimizer.minimize(mean_loss)\n",
    "\n",
    "\n",
    "# # batch normalization in tensorflow requires this extra dependency\n",
    "# extra_update_ops = tf.get_collection(tf.GraphKeys.UPDATE_OPS)\n",
    "# with tf.control_dependencies(extra_update_ops):\n",
    "#     train_step = optimizer.minimize(mean_loss)"
   ]
  },
  {
   "cell_type": "code",
   "execution_count": 17,
   "metadata": {
    "collapsed": true,
    "scrolled": false
   },
   "outputs": [],
   "source": [
    "# with tf.Session() as sess:\n",
    "#     sess.run(tf.global_variables_initializer())\n",
    "#     print('Training')\n",
    "#     run_model(sess, y_out, mean_loss, X_crop_train, Y_train_label ,10, 64, 100,train_step, True)\n",
    "#     print('Validation')\n",
    "#     run_model(sess, y_out, mean_loss, X_crop_val, Y_val_label , 1 , 64)"
   ]
  },
  {
   "cell_type": "code",
   "execution_count": null,
   "metadata": {
    "collapsed": true
   },
   "outputs": [],
   "source": []
  },
  {
   "cell_type": "markdown",
   "metadata": {},
   "source": [
    "# Testing Tensorflow / Keras, Pretrained model"
   ]
  },
  {
   "cell_type": "code",
   "execution_count": null,
   "metadata": {
    "collapsed": true
   },
   "outputs": [],
   "source": []
  },
  {
   "cell_type": "code",
   "execution_count": 35,
   "metadata": {},
   "outputs": [
    {
     "data": {
      "text/plain": [
       "array([[[-0.99789544, -0.99786669, -0.99809666],\n",
       "        [-0.99789512, -0.99786436, -0.99811042],\n",
       "        [-0.99817462, -0.99814386, -0.99838992],\n",
       "        ...,\n",
       "        [-0.99569396, -0.99554018, -0.99572472],\n",
       "        [-0.99568793, -0.99553414, -0.99571869],\n",
       "        [-0.99594677, -0.99580303, -0.99597551]],\n",
       "\n",
       "       [[-0.99886452, -0.99883577, -0.99906574],\n",
       "        [-0.99888731, -0.99885655, -0.99910261],\n",
       "        [-0.99904204, -0.99901128, -0.99925734],\n",
       "        ...,\n",
       "        [-0.99569222, -0.99553844, -0.99572298],\n",
       "        [-0.99568261, -0.99552882, -0.99571336],\n",
       "        [-0.99594179, -0.99579806, -0.99597054]],\n",
       "\n",
       "       [[-0.99946598, -0.99943724, -0.99966721],\n",
       "        [-0.99942862, -0.99939786, -0.99964392],\n",
       "        [-0.99939916, -0.9993684 , -0.99961446],\n",
       "        ...,\n",
       "        [-0.99568391, -0.99553012, -0.99571467],\n",
       "        [-0.99565891, -0.99550513, -0.99568967],\n",
       "        [-0.99592631, -0.99578258, -0.99595506]],\n",
       "\n",
       "       ...,\n",
       "\n",
       "       [[-0.99638625, -0.99618503, -0.99664497],\n",
       "        [-0.99618669, -0.99597139, -0.99646351],\n",
       "        [-0.996513  , -0.9962977 , -0.99678982],\n",
       "        ...,\n",
       "        [-0.9996764 , -0.99958413, -0.99979943],\n",
       "        [-0.99966167, -0.9995694 , -0.9997847 ],\n",
       "        [-0.99968379, -0.99959755, -0.99979878]],\n",
       "\n",
       "       [[-0.99690092, -0.9966997 , -0.99715964],\n",
       "        [-0.99674973, -0.99653443, -0.99702655],\n",
       "        [-0.99704562, -0.99683032, -0.99732243],\n",
       "        ...,\n",
       "        [-0.99966525, -0.99957298, -0.99978828],\n",
       "        [-0.99966167, -0.9995694 , -0.9997847 ],\n",
       "        [-0.99968379, -0.99959755, -0.99979878]],\n",
       "\n",
       "       [[-0.99760631, -0.99740509, -0.99786503],\n",
       "        [-0.99741984, -0.99720453, -0.99769665],\n",
       "        [-0.99758678, -0.99737148, -0.9978636 ],\n",
       "        ...,\n",
       "        [-0.99966167, -0.9995694 , -0.9997847 ],\n",
       "        [-0.99966167, -0.9995694 , -0.9997847 ],\n",
       "        [-0.99968379, -0.99959755, -0.99979878]]])"
      ]
     },
     "execution_count": 35,
     "metadata": {},
     "output_type": "execute_result"
    }
   ],
   "source": []
  },
  {
   "cell_type": "code",
   "execution_count": null,
   "metadata": {
    "collapsed": true
   },
   "outputs": [],
   "source": []
  },
  {
   "cell_type": "code",
   "execution_count": null,
   "metadata": {
    "collapsed": true
   },
   "outputs": [],
   "source": []
  },
  {
   "cell_type": "code",
   "execution_count": null,
   "metadata": {
    "collapsed": true
   },
   "outputs": [],
   "source": []
  },
  {
   "cell_type": "code",
   "execution_count": null,
   "metadata": {
    "collapsed": true
   },
   "outputs": [],
   "source": []
  },
  {
   "cell_type": "code",
   "execution_count": null,
   "metadata": {
    "collapsed": true
   },
   "outputs": [],
   "source": []
  },
  {
   "cell_type": "code",
   "execution_count": 35,
   "metadata": {},
   "outputs": [
    {
     "data": {
      "text/plain": [
       "(1000, 32, 32, 3)"
      ]
     },
     "execution_count": 35,
     "metadata": {},
     "output_type": "execute_result"
    }
   ],
   "source": [
    "X_crop_train.shape"
   ]
  },
  {
   "cell_type": "code",
   "execution_count": 36,
   "metadata": {
    "collapsed": true
   },
   "outputs": [],
   "source": [
    "imageInput = tf.keras.Input(shape=(32, 32, 3))"
   ]
  },
  {
   "cell_type": "code",
   "execution_count": 37,
   "metadata": {},
   "outputs": [],
   "source": [
    "model = tf.keras.applications.VGG16(input_tensor=imageInput, include_top=False, weights=\"imagenet\")\n"
   ]
  },
  {
   "cell_type": "code",
   "execution_count": 38,
   "metadata": {},
   "outputs": [
    {
     "name": "stdout",
     "output_type": "stream",
     "text": [
      "_________________________________________________________________\n",
      "Layer (type)                 Output Shape              Param #   \n",
      "=================================================================\n",
      "input_2 (InputLayer)         (None, 32, 32, 3)         0         \n",
      "_________________________________________________________________\n",
      "block1_conv1 (Conv2D)        (None, 32, 32, 64)        1792      \n",
      "_________________________________________________________________\n",
      "block1_conv2 (Conv2D)        (None, 32, 32, 64)        36928     \n",
      "_________________________________________________________________\n",
      "block1_pool (MaxPooling2D)   (None, 16, 16, 64)        0         \n",
      "_________________________________________________________________\n",
      "block2_conv1 (Conv2D)        (None, 16, 16, 128)       73856     \n",
      "_________________________________________________________________\n",
      "block2_conv2 (Conv2D)        (None, 16, 16, 128)       147584    \n",
      "_________________________________________________________________\n",
      "block2_pool (MaxPooling2D)   (None, 8, 8, 128)         0         \n",
      "_________________________________________________________________\n",
      "block3_conv1 (Conv2D)        (None, 8, 8, 256)         295168    \n",
      "_________________________________________________________________\n",
      "block3_conv2 (Conv2D)        (None, 8, 8, 256)         590080    \n",
      "_________________________________________________________________\n",
      "block3_conv3 (Conv2D)        (None, 8, 8, 256)         590080    \n",
      "_________________________________________________________________\n",
      "block3_pool (MaxPooling2D)   (None, 4, 4, 256)         0         \n",
      "_________________________________________________________________\n",
      "block4_conv1 (Conv2D)        (None, 4, 4, 512)         1180160   \n",
      "_________________________________________________________________\n",
      "block4_conv2 (Conv2D)        (None, 4, 4, 512)         2359808   \n",
      "_________________________________________________________________\n",
      "block4_conv3 (Conv2D)        (None, 4, 4, 512)         2359808   \n",
      "_________________________________________________________________\n",
      "block4_pool (MaxPooling2D)   (None, 2, 2, 512)         0         \n",
      "_________________________________________________________________\n",
      "block5_conv1 (Conv2D)        (None, 2, 2, 512)         2359808   \n",
      "_________________________________________________________________\n",
      "block5_conv2 (Conv2D)        (None, 2, 2, 512)         2359808   \n",
      "_________________________________________________________________\n",
      "block5_conv3 (Conv2D)        (None, 2, 2, 512)         2359808   \n",
      "_________________________________________________________________\n",
      "block5_pool (MaxPooling2D)   (None, 1, 1, 512)         0         \n",
      "=================================================================\n",
      "Total params: 14,714,688\n",
      "Trainable params: 14,714,688\n",
      "Non-trainable params: 0\n",
      "_________________________________________________________________\n"
     ]
    }
   ],
   "source": [
    "model.summary()"
   ]
  },
  {
   "cell_type": "code",
   "execution_count": 39,
   "metadata": {
    "collapsed": true
   },
   "outputs": [],
   "source": [
    "last_layer = model.get_layer('block5_pool').output"
   ]
  },
  {
   "cell_type": "code",
   "execution_count": 40,
   "metadata": {
    "collapsed": true
   },
   "outputs": [],
   "source": [
    "flatten = tf.keras.layers.Flatten()(last_layer)\n",
    "out = tf.keras.layers.Dense(num_classes, activation=\"softmax\", name=\"output\")(flatten)"
   ]
  },
  {
   "cell_type": "code",
   "execution_count": 41,
   "metadata": {
    "collapsed": true
   },
   "outputs": [],
   "source": [
    "custom_vgg_model = tf.keras.Model(imageInput, out)"
   ]
  },
  {
   "cell_type": "code",
   "execution_count": 42,
   "metadata": {},
   "outputs": [
    {
     "name": "stdout",
     "output_type": "stream",
     "text": [
      "_________________________________________________________________\n",
      "Layer (type)                 Output Shape              Param #   \n",
      "=================================================================\n",
      "input_2 (InputLayer)         (None, 32, 32, 3)         0         \n",
      "_________________________________________________________________\n",
      "block1_conv1 (Conv2D)        (None, 32, 32, 64)        1792      \n",
      "_________________________________________________________________\n",
      "block1_conv2 (Conv2D)        (None, 32, 32, 64)        36928     \n",
      "_________________________________________________________________\n",
      "block1_pool (MaxPooling2D)   (None, 16, 16, 64)        0         \n",
      "_________________________________________________________________\n",
      "block2_conv1 (Conv2D)        (None, 16, 16, 128)       73856     \n",
      "_________________________________________________________________\n",
      "block2_conv2 (Conv2D)        (None, 16, 16, 128)       147584    \n",
      "_________________________________________________________________\n",
      "block2_pool (MaxPooling2D)   (None, 8, 8, 128)         0         \n",
      "_________________________________________________________________\n",
      "block3_conv1 (Conv2D)        (None, 8, 8, 256)         295168    \n",
      "_________________________________________________________________\n",
      "block3_conv2 (Conv2D)        (None, 8, 8, 256)         590080    \n",
      "_________________________________________________________________\n",
      "block3_conv3 (Conv2D)        (None, 8, 8, 256)         590080    \n",
      "_________________________________________________________________\n",
      "block3_pool (MaxPooling2D)   (None, 4, 4, 256)         0         \n",
      "_________________________________________________________________\n",
      "block4_conv1 (Conv2D)        (None, 4, 4, 512)         1180160   \n",
      "_________________________________________________________________\n",
      "block4_conv2 (Conv2D)        (None, 4, 4, 512)         2359808   \n",
      "_________________________________________________________________\n",
      "block4_conv3 (Conv2D)        (None, 4, 4, 512)         2359808   \n",
      "_________________________________________________________________\n",
      "block4_pool (MaxPooling2D)   (None, 2, 2, 512)         0         \n",
      "_________________________________________________________________\n",
      "block5_conv1 (Conv2D)        (None, 2, 2, 512)         2359808   \n",
      "_________________________________________________________________\n",
      "block5_conv2 (Conv2D)        (None, 2, 2, 512)         2359808   \n",
      "_________________________________________________________________\n",
      "block5_conv3 (Conv2D)        (None, 2, 2, 512)         2359808   \n",
      "_________________________________________________________________\n",
      "block5_pool (MaxPooling2D)   (None, 1, 1, 512)         0         \n",
      "_________________________________________________________________\n",
      "flatten_2 (Flatten)          (None, 512)               0         \n",
      "_________________________________________________________________\n",
      "output (Dense)               (None, 3)                 1539      \n",
      "=================================================================\n",
      "Total params: 14,716,227\n",
      "Trainable params: 14,716,227\n",
      "Non-trainable params: 0\n",
      "_________________________________________________________________\n"
     ]
    }
   ],
   "source": [
    "custom_vgg_model.summary()"
   ]
  },
  {
   "cell_type": "code",
   "execution_count": null,
   "metadata": {
    "collapsed": true
   },
   "outputs": [],
   "source": []
  },
  {
   "cell_type": "code",
   "execution_count": 43,
   "metadata": {
    "collapsed": true
   },
   "outputs": [],
   "source": [
    "for layer in custom_vgg_model.layers[:-1]:\n",
    "    layer.trainable = False\n",
    "custom_vgg_model.compile(loss=\"categorical_crossentropy\", optimizer=\"adam\", metrics=[\"accuracy\"])"
   ]
  },
  {
   "cell_type": "code",
   "execution_count": 44,
   "metadata": {},
   "outputs": [
    {
     "name": "stdout",
     "output_type": "stream",
     "text": [
      "_________________________________________________________________\n",
      "Layer (type)                 Output Shape              Param #   \n",
      "=================================================================\n",
      "input_2 (InputLayer)         (None, 32, 32, 3)         0         \n",
      "_________________________________________________________________\n",
      "block1_conv1 (Conv2D)        (None, 32, 32, 64)        1792      \n",
      "_________________________________________________________________\n",
      "block1_conv2 (Conv2D)        (None, 32, 32, 64)        36928     \n",
      "_________________________________________________________________\n",
      "block1_pool (MaxPooling2D)   (None, 16, 16, 64)        0         \n",
      "_________________________________________________________________\n",
      "block2_conv1 (Conv2D)        (None, 16, 16, 128)       73856     \n",
      "_________________________________________________________________\n",
      "block2_conv2 (Conv2D)        (None, 16, 16, 128)       147584    \n",
      "_________________________________________________________________\n",
      "block2_pool (MaxPooling2D)   (None, 8, 8, 128)         0         \n",
      "_________________________________________________________________\n",
      "block3_conv1 (Conv2D)        (None, 8, 8, 256)         295168    \n",
      "_________________________________________________________________\n",
      "block3_conv2 (Conv2D)        (None, 8, 8, 256)         590080    \n",
      "_________________________________________________________________\n",
      "block3_conv3 (Conv2D)        (None, 8, 8, 256)         590080    \n",
      "_________________________________________________________________\n",
      "block3_pool (MaxPooling2D)   (None, 4, 4, 256)         0         \n",
      "_________________________________________________________________\n",
      "block4_conv1 (Conv2D)        (None, 4, 4, 512)         1180160   \n",
      "_________________________________________________________________\n",
      "block4_conv2 (Conv2D)        (None, 4, 4, 512)         2359808   \n",
      "_________________________________________________________________\n",
      "block4_conv3 (Conv2D)        (None, 4, 4, 512)         2359808   \n",
      "_________________________________________________________________\n",
      "block4_pool (MaxPooling2D)   (None, 2, 2, 512)         0         \n",
      "_________________________________________________________________\n",
      "block5_conv1 (Conv2D)        (None, 2, 2, 512)         2359808   \n",
      "_________________________________________________________________\n",
      "block5_conv2 (Conv2D)        (None, 2, 2, 512)         2359808   \n",
      "_________________________________________________________________\n",
      "block5_conv3 (Conv2D)        (None, 2, 2, 512)         2359808   \n",
      "_________________________________________________________________\n",
      "block5_pool (MaxPooling2D)   (None, 1, 1, 512)         0         \n",
      "_________________________________________________________________\n",
      "flatten_2 (Flatten)          (None, 512)               0         \n",
      "_________________________________________________________________\n",
      "output (Dense)               (None, 3)                 1539      \n",
      "=================================================================\n",
      "Total params: 14,716,227\n",
      "Trainable params: 1,539\n",
      "Non-trainable params: 14,714,688\n",
      "_________________________________________________________________\n"
     ]
    }
   ],
   "source": [
    "custom_vgg_model.summary()"
   ]
  },
  {
   "cell_type": "code",
   "execution_count": null,
   "metadata": {
    "collapsed": true
   },
   "outputs": [],
   "source": []
  },
  {
   "cell_type": "code",
   "execution_count": null,
   "metadata": {
    "collapsed": true
   },
   "outputs": [],
   "source": []
  },
  {
   "cell_type": "code",
   "execution_count": null,
   "metadata": {
    "collapsed": true
   },
   "outputs": [],
   "source": []
  },
  {
   "cell_type": "code",
   "execution_count": null,
   "metadata": {
    "collapsed": true
   },
   "outputs": [],
   "source": []
  },
  {
   "cell_type": "code",
   "execution_count": null,
   "metadata": {
    "collapsed": true
   },
   "outputs": [],
   "source": []
  },
  {
   "cell_type": "code",
   "execution_count": null,
   "metadata": {
    "collapsed": true
   },
   "outputs": [],
   "source": []
  },
  {
   "cell_type": "code",
   "execution_count": 73,
   "metadata": {
    "scrolled": false
   },
   "outputs": [
    {
     "name": "stdout",
     "output_type": "stream",
     "text": [
      "Train on 1000 samples, validate on 500 samples\n",
      "Epoch 1/14\n",
      "1000/1000 [==============================] - 3s 3ms/step - loss: 0.8848 - acc: 0.5340 - val_loss: 0.7635 - val_acc: 0.6060\n",
      "Epoch 2/14\n",
      "1000/1000 [==============================] - 3s 3ms/step - loss: 0.7329 - acc: 0.5690 - val_loss: 0.7046 - val_acc: 0.5160\n",
      "Epoch 3/14\n",
      "1000/1000 [==============================] - 3s 3ms/step - loss: 0.6927 - acc: 0.8320 - val_loss: 0.6745 - val_acc: 0.9040\n",
      "Epoch 4/14\n",
      "1000/1000 [==============================] - 3s 3ms/step - loss: 0.6667 - acc: 0.8800 - val_loss: 0.6518 - val_acc: 0.8900\n",
      "Epoch 5/14\n",
      "1000/1000 [==============================] - 3s 3ms/step - loss: 0.6465 - acc: 0.8960 - val_loss: 0.6316 - val_acc: 0.8980\n",
      "Epoch 6/14\n",
      "1000/1000 [==============================] - 3s 3ms/step - loss: 0.6273 - acc: 0.8890 - val_loss: 0.6130 - val_acc: 0.9080\n",
      "Epoch 7/14\n",
      "1000/1000 [==============================] - 3s 3ms/step - loss: 0.6112 - acc: 0.8900 - val_loss: 0.5965 - val_acc: 0.8960\n",
      "Epoch 8/14\n",
      "1000/1000 [==============================] - 3s 3ms/step - loss: 0.5943 - acc: 0.9020 - val_loss: 0.5807 - val_acc: 0.9000\n",
      "Epoch 9/14\n",
      "1000/1000 [==============================] - 3s 3ms/step - loss: 0.5793 - acc: 0.8960 - val_loss: 0.5658 - val_acc: 0.9000\n",
      "Epoch 10/14\n",
      "1000/1000 [==============================] - 3s 3ms/step - loss: 0.5678 - acc: 0.8870 - val_loss: 0.5511 - val_acc: 0.9040\n",
      "Epoch 11/14\n",
      "1000/1000 [==============================] - 3s 3ms/step - loss: 0.5525 - acc: 0.8890 - val_loss: 0.5379 - val_acc: 0.9060\n",
      "Epoch 12/14\n",
      "1000/1000 [==============================] - 3s 3ms/step - loss: 0.5439 - acc: 0.8950 - val_loss: 0.5267 - val_acc: 0.8980\n",
      "Epoch 13/14\n",
      "1000/1000 [==============================] - 3s 3ms/step - loss: 0.5314 - acc: 0.9010 - val_loss: 0.5135 - val_acc: 0.9120\n",
      "Epoch 14/14\n",
      "1000/1000 [==============================] - 3s 3ms/step - loss: 0.5176 - acc: 0.9000 - val_loss: 0.5046 - val_acc: 0.8940\n",
      "500/500 [==============================] - 1s 2ms/step\n",
      "Test Loss:  0.5084502124786376\n",
      "Test Accu: 0.9040000009536743\n"
     ]
    }
   ],
   "source": [
    "with tf.Session() as sess:\n",
    "    sess.run(tf.global_variables_initializer())\n",
    "    \n",
    "    train_y = np.zeros((len(Y_train_label), num_classes))\n",
    "    val_y = np.zeros((len(Y_val_label), num_classes))\n",
    "    test_y = np.zeros((len(Y_test_label), num_classes))\n",
    "    \n",
    "    train_y[np.arange(len(Y_train_label)), Y_train_label] = 1\n",
    "    val_y[np.arange(len(Y_val_label)), Y_val_label] = 1\n",
    "    test_y[np.arange(len(Y_test_label)), Y_test_label] = 1\n",
    "    \n",
    "    \n",
    "    test1 = tf.keras.applications.vgg16.preprocess_input(X_crop_train)\n",
    "    test2 = tf.keras.applications.vgg16.preprocess_input(X_crop_val)\n",
    "    test3 = tf.keras.applications.vgg16.preprocess_input(X_crop_test)\n",
    "    \n",
    "    custom_vgg_model.fit(test1, train_y, batch_size=32,epochs=14, \n",
    "                         verbose=1, validation_data=(test2, val_y ))\n",
    "    \n",
    "    score = custom_vgg_model.evaluate(test3, test_y)\n",
    "    print(\"Test Loss: \", score[0])\n",
    "    print(\"Test Accu:\", score[1])"
   ]
  },
  {
   "cell_type": "code",
   "execution_count": null,
   "metadata": {
    "collapsed": true
   },
   "outputs": [],
   "source": []
  },
  {
   "cell_type": "markdown",
   "metadata": {},
   "source": [
    "# Keras Inception model"
   ]
  },
  {
   "cell_type": "code",
   "execution_count": 92,
   "metadata": {},
   "outputs": [],
   "source": [
    "vgg19InputImage = tf.keras.Input(shape=(32,32,3))"
   ]
  },
  {
   "cell_type": "code",
   "execution_count": 93,
   "metadata": {},
   "outputs": [],
   "source": [
    "vgg19_model = tf.keras.applications.VGG19(input_tensor=vgg19InputImage,\n",
    "                                                include_top=False, weights=\"imagenet\")"
   ]
  },
  {
   "cell_type": "code",
   "execution_count": 94,
   "metadata": {},
   "outputs": [
    {
     "name": "stdout",
     "output_type": "stream",
     "text": [
      "_________________________________________________________________\n",
      "Layer (type)                 Output Shape              Param #   \n",
      "=================================================================\n",
      "input_9 (InputLayer)         (None, 32, 32, 3)         0         \n",
      "_________________________________________________________________\n",
      "block1_conv1 (Conv2D)        (None, 32, 32, 64)        1792      \n",
      "_________________________________________________________________\n",
      "block1_conv2 (Conv2D)        (None, 32, 32, 64)        36928     \n",
      "_________________________________________________________________\n",
      "block1_pool (MaxPooling2D)   (None, 16, 16, 64)        0         \n",
      "_________________________________________________________________\n",
      "block2_conv1 (Conv2D)        (None, 16, 16, 128)       73856     \n",
      "_________________________________________________________________\n",
      "block2_conv2 (Conv2D)        (None, 16, 16, 128)       147584    \n",
      "_________________________________________________________________\n",
      "block2_pool (MaxPooling2D)   (None, 8, 8, 128)         0         \n",
      "_________________________________________________________________\n",
      "block3_conv1 (Conv2D)        (None, 8, 8, 256)         295168    \n",
      "_________________________________________________________________\n",
      "block3_conv2 (Conv2D)        (None, 8, 8, 256)         590080    \n",
      "_________________________________________________________________\n",
      "block3_conv3 (Conv2D)        (None, 8, 8, 256)         590080    \n",
      "_________________________________________________________________\n",
      "block3_conv4 (Conv2D)        (None, 8, 8, 256)         590080    \n",
      "_________________________________________________________________\n",
      "block3_pool (MaxPooling2D)   (None, 4, 4, 256)         0         \n",
      "_________________________________________________________________\n",
      "block4_conv1 (Conv2D)        (None, 4, 4, 512)         1180160   \n",
      "_________________________________________________________________\n",
      "block4_conv2 (Conv2D)        (None, 4, 4, 512)         2359808   \n",
      "_________________________________________________________________\n",
      "block4_conv3 (Conv2D)        (None, 4, 4, 512)         2359808   \n",
      "_________________________________________________________________\n",
      "block4_conv4 (Conv2D)        (None, 4, 4, 512)         2359808   \n",
      "_________________________________________________________________\n",
      "block4_pool (MaxPooling2D)   (None, 2, 2, 512)         0         \n",
      "_________________________________________________________________\n",
      "block5_conv1 (Conv2D)        (None, 2, 2, 512)         2359808   \n",
      "_________________________________________________________________\n",
      "block5_conv2 (Conv2D)        (None, 2, 2, 512)         2359808   \n",
      "_________________________________________________________________\n",
      "block5_conv3 (Conv2D)        (None, 2, 2, 512)         2359808   \n",
      "_________________________________________________________________\n",
      "block5_conv4 (Conv2D)        (None, 2, 2, 512)         2359808   \n",
      "_________________________________________________________________\n",
      "block5_pool (MaxPooling2D)   (None, 1, 1, 512)         0         \n",
      "=================================================================\n",
      "Total params: 20,024,384\n",
      "Trainable params: 20,024,384\n",
      "Non-trainable params: 0\n",
      "_________________________________________________________________\n"
     ]
    }
   ],
   "source": [
    "vgg19_model.summary()"
   ]
  },
  {
   "cell_type": "code",
   "execution_count": 95,
   "metadata": {
    "collapsed": true
   },
   "outputs": [],
   "source": [
    "vgg19_last = vgg19_model.get_layer(\"block5_pool\").output"
   ]
  },
  {
   "cell_type": "code",
   "execution_count": 96,
   "metadata": {
    "collapsed": true
   },
   "outputs": [],
   "source": [
    "vgg19_flatten = tf.keras.layers.Flatten(name=\"vgg19_flatten\")(vgg19_last)\n",
    "vgg19_output = tf.keras.layers.Dense(num_classes, activation=\"softmax\", name=\"output\")(vgg19_flatten)"
   ]
  },
  {
   "cell_type": "code",
   "execution_count": 97,
   "metadata": {
    "collapsed": true
   },
   "outputs": [],
   "source": [
    "custom_vgg19_model = tf.keras.Model(vgg19InputImage, vgg19_output)"
   ]
  },
  {
   "cell_type": "code",
   "execution_count": 98,
   "metadata": {},
   "outputs": [
    {
     "name": "stdout",
     "output_type": "stream",
     "text": [
      "_________________________________________________________________\n",
      "Layer (type)                 Output Shape              Param #   \n",
      "=================================================================\n",
      "input_9 (InputLayer)         (None, 32, 32, 3)         0         \n",
      "_________________________________________________________________\n",
      "block1_conv1 (Conv2D)        (None, 32, 32, 64)        1792      \n",
      "_________________________________________________________________\n",
      "block1_conv2 (Conv2D)        (None, 32, 32, 64)        36928     \n",
      "_________________________________________________________________\n",
      "block1_pool (MaxPooling2D)   (None, 16, 16, 64)        0         \n",
      "_________________________________________________________________\n",
      "block2_conv1 (Conv2D)        (None, 16, 16, 128)       73856     \n",
      "_________________________________________________________________\n",
      "block2_conv2 (Conv2D)        (None, 16, 16, 128)       147584    \n",
      "_________________________________________________________________\n",
      "block2_pool (MaxPooling2D)   (None, 8, 8, 128)         0         \n",
      "_________________________________________________________________\n",
      "block3_conv1 (Conv2D)        (None, 8, 8, 256)         295168    \n",
      "_________________________________________________________________\n",
      "block3_conv2 (Conv2D)        (None, 8, 8, 256)         590080    \n",
      "_________________________________________________________________\n",
      "block3_conv3 (Conv2D)        (None, 8, 8, 256)         590080    \n",
      "_________________________________________________________________\n",
      "block3_conv4 (Conv2D)        (None, 8, 8, 256)         590080    \n",
      "_________________________________________________________________\n",
      "block3_pool (MaxPooling2D)   (None, 4, 4, 256)         0         \n",
      "_________________________________________________________________\n",
      "block4_conv1 (Conv2D)        (None, 4, 4, 512)         1180160   \n",
      "_________________________________________________________________\n",
      "block4_conv2 (Conv2D)        (None, 4, 4, 512)         2359808   \n",
      "_________________________________________________________________\n",
      "block4_conv3 (Conv2D)        (None, 4, 4, 512)         2359808   \n",
      "_________________________________________________________________\n",
      "block4_conv4 (Conv2D)        (None, 4, 4, 512)         2359808   \n",
      "_________________________________________________________________\n",
      "block4_pool (MaxPooling2D)   (None, 2, 2, 512)         0         \n",
      "_________________________________________________________________\n",
      "block5_conv1 (Conv2D)        (None, 2, 2, 512)         2359808   \n",
      "_________________________________________________________________\n",
      "block5_conv2 (Conv2D)        (None, 2, 2, 512)         2359808   \n",
      "_________________________________________________________________\n",
      "block5_conv3 (Conv2D)        (None, 2, 2, 512)         2359808   \n",
      "_________________________________________________________________\n",
      "block5_conv4 (Conv2D)        (None, 2, 2, 512)         2359808   \n",
      "_________________________________________________________________\n",
      "block5_pool (MaxPooling2D)   (None, 1, 1, 512)         0         \n",
      "_________________________________________________________________\n",
      "vgg19_flatten (Flatten)      (None, 512)               0         \n",
      "_________________________________________________________________\n",
      "output (Dense)               (None, 3)                 1539      \n",
      "=================================================================\n",
      "Total params: 20,025,923\n",
      "Trainable params: 20,025,923\n",
      "Non-trainable params: 0\n",
      "_________________________________________________________________\n"
     ]
    }
   ],
   "source": [
    "custom_vgg19_model.summary()"
   ]
  },
  {
   "cell_type": "code",
   "execution_count": 99,
   "metadata": {
    "collapsed": true
   },
   "outputs": [],
   "source": [
    "for layer in custom_vgg19_model.layers[:-1]:\n",
    "    layer.trainable = False\n",
    "custom_vgg19_model.compile(loss=\"categorical_hinge\", optimizer=\"adam\", metrics=[\"accuracy\"])\n"
   ]
  },
  {
   "cell_type": "code",
   "execution_count": 100,
   "metadata": {},
   "outputs": [
    {
     "name": "stdout",
     "output_type": "stream",
     "text": [
      "_________________________________________________________________\n",
      "Layer (type)                 Output Shape              Param #   \n",
      "=================================================================\n",
      "input_9 (InputLayer)         (None, 32, 32, 3)         0         \n",
      "_________________________________________________________________\n",
      "block1_conv1 (Conv2D)        (None, 32, 32, 64)        1792      \n",
      "_________________________________________________________________\n",
      "block1_conv2 (Conv2D)        (None, 32, 32, 64)        36928     \n",
      "_________________________________________________________________\n",
      "block1_pool (MaxPooling2D)   (None, 16, 16, 64)        0         \n",
      "_________________________________________________________________\n",
      "block2_conv1 (Conv2D)        (None, 16, 16, 128)       73856     \n",
      "_________________________________________________________________\n",
      "block2_conv2 (Conv2D)        (None, 16, 16, 128)       147584    \n",
      "_________________________________________________________________\n",
      "block2_pool (MaxPooling2D)   (None, 8, 8, 128)         0         \n",
      "_________________________________________________________________\n",
      "block3_conv1 (Conv2D)        (None, 8, 8, 256)         295168    \n",
      "_________________________________________________________________\n",
      "block3_conv2 (Conv2D)        (None, 8, 8, 256)         590080    \n",
      "_________________________________________________________________\n",
      "block3_conv3 (Conv2D)        (None, 8, 8, 256)         590080    \n",
      "_________________________________________________________________\n",
      "block3_conv4 (Conv2D)        (None, 8, 8, 256)         590080    \n",
      "_________________________________________________________________\n",
      "block3_pool (MaxPooling2D)   (None, 4, 4, 256)         0         \n",
      "_________________________________________________________________\n",
      "block4_conv1 (Conv2D)        (None, 4, 4, 512)         1180160   \n",
      "_________________________________________________________________\n",
      "block4_conv2 (Conv2D)        (None, 4, 4, 512)         2359808   \n",
      "_________________________________________________________________\n",
      "block4_conv3 (Conv2D)        (None, 4, 4, 512)         2359808   \n",
      "_________________________________________________________________\n",
      "block4_conv4 (Conv2D)        (None, 4, 4, 512)         2359808   \n",
      "_________________________________________________________________\n",
      "block4_pool (MaxPooling2D)   (None, 2, 2, 512)         0         \n",
      "_________________________________________________________________\n",
      "block5_conv1 (Conv2D)        (None, 2, 2, 512)         2359808   \n",
      "_________________________________________________________________\n",
      "block5_conv2 (Conv2D)        (None, 2, 2, 512)         2359808   \n",
      "_________________________________________________________________\n",
      "block5_conv3 (Conv2D)        (None, 2, 2, 512)         2359808   \n",
      "_________________________________________________________________\n",
      "block5_conv4 (Conv2D)        (None, 2, 2, 512)         2359808   \n",
      "_________________________________________________________________\n",
      "block5_pool (MaxPooling2D)   (None, 1, 1, 512)         0         \n",
      "_________________________________________________________________\n",
      "vgg19_flatten (Flatten)      (None, 512)               0         \n",
      "_________________________________________________________________\n",
      "output (Dense)               (None, 3)                 1539      \n",
      "=================================================================\n",
      "Total params: 20,025,923\n",
      "Trainable params: 1,539\n",
      "Non-trainable params: 20,024,384\n",
      "_________________________________________________________________\n"
     ]
    }
   ],
   "source": [
    "custom_vgg19_model.summary()"
   ]
  },
  {
   "cell_type": "code",
   "execution_count": null,
   "metadata": {},
   "outputs": [],
   "source": [
    "with tf.Session() as sess:\n",
    "    sess.run(tf.global_variables_initializer())\n",
    "    \n",
    "    train_y = np.zeros((len(Y_train_label), num_classes))\n",
    "    val_y = np.zeros((len(Y_val_label), num_classes))\n",
    "    test_y = np.zeros((len(Y_test_label), num_classes))\n",
    "    \n",
    "    train_y[np.arange(len(Y_train_label)), Y_train_label] = 1\n",
    "    val_y[np.arange(len(Y_val_label)), Y_val_label] = 1\n",
    "    test_y[np.arange(len(Y_test_label)), Y_test_label] = 1\n",
    "    \n",
    "    test1 = tf.keras.applications.vgg19.preprocess_input(X_crop_train)\n",
    "    test2 = tf.keras.applications.vgg19.preprocess_input(X_crop_val)\n",
    "    test3 = tf.keras.applications.vgg19.preprocess_input(X_crop_test)\n",
    "\n",
    "    custom_vgg19_model.fit(test1, train_y, batch_size=20,epochs=16, \n",
    "                         verbose=1, validation_data=(test2, val_y ))\n",
    "    \n",
    "    score = custom_vgg19_model.evaluate(test3, test_y)\n",
    "    print(\"Test Loss: \", score[0])\n",
    "    print(\"Test Accu:\", score[1])"
   ]
  },
  {
   "cell_type": "code",
   "execution_count": null,
   "metadata": {
    "collapsed": true
   },
   "outputs": [],
   "source": [
    "print(\"Hello\")"
   ]
  },
  {
   "cell_type": "code",
   "execution_count": null,
   "metadata": {
    "collapsed": true
   },
   "outputs": [],
   "source": []
  }
 ],
 "metadata": {
  "kernelspec": {
   "display_name": "Python [conda env:tensorflow]",
   "language": "python",
   "name": "conda-env-tensorflow-py"
  },
  "language_info": {
   "codemirror_mode": {
    "name": "ipython",
    "version": 3
   },
   "file_extension": ".py",
   "mimetype": "text/x-python",
   "name": "python",
   "nbconvert_exporter": "python",
   "pygments_lexer": "ipython3",
   "version": "3.6.5"
  }
 },
 "nbformat": 4,
 "nbformat_minor": 2
}
