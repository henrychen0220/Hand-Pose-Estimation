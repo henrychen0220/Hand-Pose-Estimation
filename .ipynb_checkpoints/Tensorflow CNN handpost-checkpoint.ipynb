{
 "cells": [
  {
   "cell_type": "code",
   "execution_count": 1,
   "metadata": {
    "collapsed": true
   },
   "outputs": [],
   "source": [
    "import tensorflow as tf\n",
    "import matplotlib.pyplot as plt\n",
    "import matplotlib.patches as patches\n",
    "\n",
    "from matplotlib.image import imread\n",
    "import numpy as np\n",
    "%matplotlib inline\n"
   ]
  },
  {
   "cell_type": "code",
   "execution_count": 2,
   "metadata": {
    "collapsed": true
   },
   "outputs": [],
   "source": [
    "import os\n",
    "import json\n",
    "from skimage.color import rgb2gray\n",
    "import random"
   ]
  },
  {
   "cell_type": "code",
   "execution_count": 3,
   "metadata": {
    "collapsed": true
   },
   "outputs": [],
   "source": [
    "image_data_directory = 'Dataset/Color'\n",
    "annotation_url = 'Dataset/annotation.json'"
   ]
  },
  {
   "cell_type": "code",
   "execution_count": 4,
   "metadata": {
    "collapsed": true
   },
   "outputs": [],
   "source": [
    "with open(annotation_url) as annotation:\n",
    "    annotation_data = json.load(annotation)"
   ]
  },
  {
   "cell_type": "code",
   "execution_count": 5,
   "metadata": {},
   "outputs": [
    {
     "name": "stdout",
     "output_type": "stream",
     "text": [
      "[[0.39215686 0.39215686 0.39215686]\n",
      " [0.39215686 0.         0.        ]\n",
      " [0.58823529 0.         0.        ]\n",
      " [0.78431373 0.         0.        ]\n",
      " [1.         0.         0.        ]\n",
      " [0.39215686 0.39215686 0.        ]\n",
      " [0.58823529 0.58823529 0.        ]\n",
      " [0.78431373 0.78431373 0.        ]\n",
      " [1.         1.         0.        ]\n",
      " [0.         0.39215686 0.19607843]\n",
      " [0.         0.58823529 0.29411765]\n",
      " [0.         0.78431373 0.39215686]\n",
      " [0.         1.         0.49019608]\n",
      " [0.         0.19607843 0.39215686]\n",
      " [0.         0.29411765 0.58823529]\n",
      " [0.         0.39215686 0.78431373]\n",
      " [0.         0.49019608 1.        ]\n",
      " [0.39215686 0.         0.39215686]\n",
      " [0.58823529 0.         0.58823529]\n",
      " [0.78431373 0.         0.78431373]\n",
      " [1.         0.         1.        ]]\n"
     ]
    }
   ],
   "source": [
    "colors = [\n",
    "\t\t[100.,  100.,  100.], \n",
    "\t\t[100.,    0.,    0.],\n",
    "\t\t[150.,    0.,    0.],\n",
    "\t\t[200.,    0.,    0.],\n",
    "\t\t[255.,    0.,    0.],\n",
    "\t\t[100.,  100.,    0.],\n",
    "\t\t[150.,  150.,    0.],\n",
    "\t\t[200.,  200.,    0.],\n",
    "\t\t[255.,  255.,    0.],\n",
    "\t\t[  0.,  100.,   50.],\n",
    "\t\t[  0.,  150.,   75.],\n",
    "\t\t[  0.,  200.,  100.],\n",
    "\t\t[  0.,  255.,  125.],\n",
    "\t\t[  0.,   50.,  100.],\n",
    "\t\t[  0.,   75.,  150.],\n",
    "\t\t[  0.,  100.,  200.],\n",
    "\t\t[  0.,  125.,  255.],\n",
    "\t\t[100.,    0.,  100.],\n",
    "\t\t[150.,    0.,  150.],\n",
    "        [200.,    0.,  200.],\n",
    "        [255.,    0.,  255.]]\n",
    "\n",
    "colors = np.divide(np.array(colors), 255)\n",
    "print(colors)"
   ]
  },
  {
   "cell_type": "code",
   "execution_count": 6,
   "metadata": {
    "collapsed": true
   },
   "outputs": [],
   "source": [
    "def getImageData(image, annotation_data, name):\n",
    "    if name[-1] == 'L':\n",
    "        label = 0\n",
    "    elif name[-1] == 'R':\n",
    "        label = 1\n",
    "\n",
    "    pos = np.array(annotation_data[name])\n",
    "    \n",
    "    top_left_x = np.amin(pos[:,0]) - 10\n",
    "    top_left_y = np.amin(pos[:,1]) - 10\n",
    "    \n",
    "    width = np.amax(pos[:,0]) - top_left_x + 10\n",
    "    height = np.amax(pos[:,1]) - top_left_y + 10\n",
    "\n",
    "    return label, top_left_x, top_left_y, width, height"
   ]
  },
  {
   "cell_type": "code",
   "execution_count": 7,
   "metadata": {
    "collapsed": true
   },
   "outputs": [],
   "source": [
    "def plotImageData(image, annotation_data, name):\n",
    "    if name[-1] == 'L':\n",
    "        print(\"L\")\n",
    "    elif name[-1] == 'R':\n",
    "        print(\"R\")\n",
    "    plt.figure(figsize=(20,10))\n",
    "    image = rgb2gray(image)\n",
    "    plt.imshow(image, cmap='gray')\n",
    "    pos = np.array(annotation_data[name])\n",
    "    \n",
    "    top_left_x = np.amin(pos[:,0]) - 10\n",
    "    top_left_y = np.amin(pos[:,1]) - 10\n",
    "    \n",
    "    width = np.amax(pos[:,0]) - top_left_x + 10\n",
    "    height = np.amax(pos[:,1]) - top_left_y + 10\n",
    "\n",
    "    \n",
    "    rect = patches.Rectangle((top_left_x,top_left_y),width,height,linewidth=1,edgecolor='r',facecolor='none')\n",
    "    \n",
    "    plt.gca().add_patch(rect)\n",
    "    \n",
    "    plt.scatter(x=pos[:, 0], y=pos[:, 1], c=colors, s=10, alpha=0.7)\n",
    "    plt.show()\n",
    "    "
   ]
  },
  {
   "cell_type": "code",
   "execution_count": 8,
   "metadata": {
    "collapsed": true
   },
   "outputs": [],
   "source": [
    "def load_part_data(names, data_directory, annotation_data):\n",
    "\n",
    "    allImages = np.empty((len(names), 1080, 1920))\n",
    "    allBoxs = np.empty((len(names), 4))\n",
    "    allLabels = []\n",
    "    \n",
    "    for i in range(len(names)):\n",
    "        name = names[i]\n",
    "        greyImage = rgb2gray(imread(data_directory + \"/\" + name[:-2] + \".jpg\"))\n",
    "        \n",
    "        image = np.array(greyImage, dtype='float32')\n",
    "                \n",
    "        label, top_x, top_y, width, height = getImageData(image, annotation_data, name)        \n",
    "        boundingBox = np.array([top_x, top_y, width, height])\n",
    "        newLabel = np.array([label])\n",
    "        \n",
    "        allImages[i] = image\n",
    "        allBoxs[i] = boundingBox\n",
    "        \n",
    "        #allImages.append(image)\n",
    "        allLabels.append(newLabel)\n",
    "        #allBoxs.append(boundingBox)\n",
    "    \n",
    "    print(allImages.shape)\n",
    "    print(allBoxs.shape)\n",
    "    \n",
    "    return allImages, np.concatenate(allLabels), allBoxs\n",
    "        \n"
   ]
  },
  {
   "cell_type": "code",
   "execution_count": 9,
   "metadata": {
    "collapsed": true
   },
   "outputs": [],
   "source": [
    "def load_data(data_directory, annotation_data):\n",
    "    names = list(annotation_data.keys())\n",
    "    random.shuffle(names)\n",
    "\n",
    "    print(\"Get train\")\n",
    "    train_data = np.array(names[:200])\n",
    "    X_train, Y_train_label, Y_train_box = load_part_data(train_data, data_directory, annotation_data)\n",
    "    \n",
    "    \n",
    "    print(\"Get valid\")\n",
    "    valid_data = np.array(names[200:400])\n",
    "    X_val, Y_val_label, Y_val_box = load_part_data(valid_data, data_directory, annotation_data)\n",
    "    \n",
    "    print(\"Get test\")\n",
    "    test_data = np.array(names[400:600])\n",
    "    X_test, Y_test_label, Y_test_box = load_part_data(test_data, data_directory, annotation_data)\n",
    "    \n",
    "    mean_image = np.mean(X_train, axis=0)\n",
    "\n",
    "    X_train -= mean_image\n",
    "    X_val -= mean_image\n",
    "    X_test -= mean_image\n",
    "    \n",
    "    \"\"\"\n",
    "    for name in names:\n",
    "        if count > 10:\n",
    "            break\n",
    "        image = imread(data_directory + \"/\" + name[:-2] + \".jpg\")\n",
    "        label, top_x, top_y, width, height = getImageData(image, annotation_data, name)\n",
    "        plotImageData(image, annotation_data, name)\n",
    "        count += 1    \n",
    "    \"\"\"\n",
    "    \n",
    "    return X_train, Y_train_label, Y_train_box, X_val, Y_val_label, Y_val_box, X_test, Y_test_label, Y_test_box\n",
    "\n",
    "            "
   ]
  },
  {
   "cell_type": "code",
   "execution_count": 10,
   "metadata": {
    "scrolled": false
   },
   "outputs": [
    {
     "name": "stdout",
     "output_type": "stream",
     "text": [
      "Get train\n",
      "(200, 1080, 1920)\n",
      "(200, 4)\n",
      "Get valid\n",
      "(200, 1080, 1920)\n",
      "(200, 4)\n",
      "Get test\n",
      "(200, 1080, 1920)\n",
      "(200, 4)\n"
     ]
    }
   ],
   "source": [
    "X_train, Y_train_label, Y_train_box, X_val, Y_val_label, Y_val_box, X_test, Y_test_label, Y_test_box = load_data(image_data_directory, annotation_data)"
   ]
  },
  {
   "cell_type": "code",
   "execution_count": 11,
   "metadata": {},
   "outputs": [
    {
     "name": "stdout",
     "output_type": "stream",
     "text": [
      "(200, 1080, 1920)\n",
      "(200,)\n",
      "(200, 4)\n",
      "(200, 1080, 1920)\n",
      "(200,)\n",
      "(200, 4)\n",
      "(200, 1080, 1920)\n",
      "(200,)\n",
      "(200, 4)\n"
     ]
    }
   ],
   "source": [
    "print(X_train.shape)\n",
    "print(Y_train_label.shape)\n",
    "print(Y_train_box.shape)\n",
    "print(X_val.shape)\n",
    "print(Y_val_label.shape)\n",
    "print(Y_val_box.shape)\n",
    "print(X_test.shape)\n",
    "print(Y_test_label.shape)\n",
    "print(Y_test_box.shape)"
   ]
  },
  {
   "cell_type": "markdown",
   "metadata": {},
   "source": [
    "# Image Model\n",
    "\n",
    "image data will have size N x W x H\n",
    "\n",
    "N = number of images\n",
    "W = width\n",
    "H = height\n",
    "\n",
    "notice that we dont have any a new dimension C that contains RGB values because RGB values\n",
    "wont affect much in this case.\n",
    "\n"
   ]
  },
  {
   "cell_type": "code",
   "execution_count": null,
   "metadata": {
    "collapsed": true
   },
   "outputs": [],
   "source": [
    "def run_model(session, predict, loss_val, Xd, yd,\n",
    "              epochs=1, batch_size=64, print_every=100,\n",
    "              training=None, plot_losses=False):\n",
    "    # have tensorflow compute accuracy\n",
    "    correct_prediction = tf.equal(tf.argmax(predict,1), y)\n",
    "    accuracy = tf.reduce_mean(tf.cast(correct_prediction, tf.float32))\n",
    "    \n",
    "    # shuffle indicies\n",
    "    train_indicies = np.arange(Xd.shape[0])\n",
    "    np.random.shuffle(train_indicies)\n",
    "\n",
    "    training_now = training is not None\n",
    "    \n",
    "    # setting up variables we want to compute (and optimizing)\n",
    "    # if we have a training function, add that to things we compute\n",
    "    variables = [loss_val,correct_prediction,accuracy]\n",
    "    if training_now:\n",
    "        variables[-1] = training\n",
    "    \n",
    "    # counter \n",
    "    iter_cnt = 0\n",
    "    for e in range(epochs):\n",
    "        # keep track of losses and accuracy\n",
    "        correct = 0\n",
    "        losses = []\n",
    "        # make sure we iterate over the dataset once\n",
    "        for i in range(int(math.ceil(Xd.shape[0]/batch_size))):\n",
    "            # generate indicies for the batch\n",
    "            start_idx = (i*batch_size)%Xd.shape[0]\n",
    "            idx = train_indicies[start_idx:start_idx+batch_size]\n",
    "            \n",
    "            # create a feed dictionary for this batch\n",
    "            feed_dict = {X: Xd[idx,:],\n",
    "                         y: yd[idx],\n",
    "                         is_training: training_now }\n",
    "            # get batch size\n",
    "            actual_batch_size = yd[idx].shape[0]\n",
    "            \n",
    "            # have tensorflow compute loss and correct predictions\n",
    "            # and (if given) perform a training step\n",
    "            loss, corr, _ = session.run(variables,feed_dict=feed_dict)\n",
    "            \n",
    "            # aggregate performance stats\n",
    "            losses.append(loss*actual_batch_size)\n",
    "            correct += np.sum(corr)\n",
    "            \n",
    "            # print every now and then\n",
    "            if training_now and (iter_cnt % print_every) == 0:\n",
    "                print(\"Iteration {0}: with minibatch training loss = {1:.3g} and accuracy of {2:.2g}\"\\\n",
    "                      .format(iter_cnt,loss,np.sum(corr)/actual_batch_size))\n",
    "            iter_cnt += 1\n",
    "        total_correct = correct/Xd.shape[0]\n",
    "        total_loss = np.sum(losses)/Xd.shape[0]\n",
    "\n",
    "    return total_loss,total_correct"
   ]
  },
  {
   "cell_type": "code",
   "execution_count": null,
   "metadata": {
    "collapsed": true
   },
   "outputs": [],
   "source": [
    "def mymodel(X, y, is_training):\n",
    "    return"
   ]
  },
  {
   "cell_type": "code",
   "execution_count": 13,
   "metadata": {
    "collapsed": true
   },
   "outputs": [],
   "source": [
    "# remove old variables\n",
    "\n",
    "tf.reset_default_graph()\n",
    "X = tf.placeholder(tf.float32, [None, 1080, 1920])\n",
    "Y_label = tf.placeholder(tf.int32, [None])\n",
    "Y_box_pos = tf.placeholder(tf.int32, [None, 4])\n",
    "is_training = tf.placeholder(tf.bool)\n"
   ]
  },
  {
   "cell_type": "code",
   "execution_count": null,
   "metadata": {
    "collapsed": true
   },
   "outputs": [],
   "source": []
  },
  {
   "cell_type": "code",
   "execution_count": null,
   "metadata": {
    "collapsed": true
   },
   "outputs": [],
   "source": []
  },
  {
   "cell_type": "code",
   "execution_count": null,
   "metadata": {
    "collapsed": true
   },
   "outputs": [],
   "source": []
  },
  {
   "cell_type": "code",
   "execution_count": null,
   "metadata": {
    "collapsed": true
   },
   "outputs": [],
   "source": []
  },
  {
   "cell_type": "code",
   "execution_count": null,
   "metadata": {
    "collapsed": true
   },
   "outputs": [],
   "source": []
  },
  {
   "cell_type": "code",
   "execution_count": null,
   "metadata": {
    "collapsed": true
   },
   "outputs": [],
   "source": []
  },
  {
   "cell_type": "code",
   "execution_count": null,
   "metadata": {
    "collapsed": true
   },
   "outputs": [],
   "source": []
  },
  {
   "cell_type": "code",
   "execution_count": null,
   "metadata": {
    "collapsed": true
   },
   "outputs": [],
   "source": []
  }
 ],
 "metadata": {
  "kernelspec": {
   "display_name": "Python [conda env:tensorflow]",
   "language": "python",
   "name": "conda-env-tensorflow-py"
  },
  "language_info": {
   "codemirror_mode": {
    "name": "ipython",
    "version": 3
   },
   "file_extension": ".py",
   "mimetype": "text/x-python",
   "name": "python",
   "nbconvert_exporter": "python",
   "pygments_lexer": "ipython3",
   "version": "3.6.5"
  }
 },
 "nbformat": 4,
 "nbformat_minor": 2
}
