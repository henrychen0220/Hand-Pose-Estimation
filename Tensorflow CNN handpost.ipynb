{
 "cells": [
  {
   "cell_type": "code",
   "execution_count": 2,
   "metadata": {
    "collapsed": true
   },
   "outputs": [],
   "source": [
    "import tensorflow as tf\n",
    "import matplotlib.pyplot as plt\n",
    "import matplotlib.patches as patches\n",
    "\n",
    "from matplotlib.image import imread\n",
    "import numpy as np\n",
    "%matplotlib inline\n"
   ]
  },
  {
   "cell_type": "code",
   "execution_count": 30,
   "metadata": {
    "collapsed": true
   },
   "outputs": [],
   "source": [
    "import os\n",
    "import json\n",
    "from skimage.color import rgb2gray\n",
    "from skimage.transform import resize\n",
    "\n",
    "import random"
   ]
  },
  {
   "cell_type": "markdown",
   "metadata": {},
   "source": [
    "# Get Image Data"
   ]
  },
  {
   "cell_type": "code",
   "execution_count": 4,
   "metadata": {
    "collapsed": true
   },
   "outputs": [],
   "source": [
    "image_data_directory = \"Dataset/Color\"\n",
    "annotation_url = 'Dataset/annotation.json'"
   ]
  },
  {
   "cell_type": "code",
   "execution_count": 5,
   "metadata": {
    "collapsed": true
   },
   "outputs": [],
   "source": [
    "with open(annotation_url) as annotation:\n",
    "    annotation_data = json.load(annotation)"
   ]
  },
  {
   "cell_type": "code",
   "execution_count": 6,
   "metadata": {},
   "outputs": [
    {
     "name": "stdout",
     "output_type": "stream",
     "text": [
      "[[0.39215686 0.39215686 0.39215686]\n",
      " [0.39215686 0.         0.        ]\n",
      " [0.58823529 0.         0.        ]\n",
      " [0.78431373 0.         0.        ]\n",
      " [1.         0.         0.        ]\n",
      " [0.39215686 0.39215686 0.        ]\n",
      " [0.58823529 0.58823529 0.        ]\n",
      " [0.78431373 0.78431373 0.        ]\n",
      " [1.         1.         0.        ]\n",
      " [0.         0.39215686 0.19607843]\n",
      " [0.         0.58823529 0.29411765]\n",
      " [0.         0.78431373 0.39215686]\n",
      " [0.         1.         0.49019608]\n",
      " [0.         0.19607843 0.39215686]\n",
      " [0.         0.29411765 0.58823529]\n",
      " [0.         0.39215686 0.78431373]\n",
      " [0.         0.49019608 1.        ]\n",
      " [0.39215686 0.         0.39215686]\n",
      " [0.58823529 0.         0.58823529]\n",
      " [0.78431373 0.         0.78431373]\n",
      " [1.         0.         1.        ]]\n"
     ]
    }
   ],
   "source": [
    "colors = [\n",
    "\t\t[100.,  100.,  100.], \n",
    "\t\t[100.,    0.,    0.],\n",
    "\t\t[150.,    0.,    0.],\n",
    "\t\t[200.,    0.,    0.],\n",
    "\t\t[255.,    0.,    0.],\n",
    "\t\t[100.,  100.,    0.],\n",
    "\t\t[150.,  150.,    0.],\n",
    "\t\t[200.,  200.,    0.],\n",
    "\t\t[255.,  255.,    0.],\n",
    "\t\t[  0.,  100.,   50.],\n",
    "\t\t[  0.,  150.,   75.],\n",
    "\t\t[  0.,  200.,  100.],\n",
    "\t\t[  0.,  255.,  125.],\n",
    "\t\t[  0.,   50.,  100.],\n",
    "\t\t[  0.,   75.,  150.],\n",
    "\t\t[  0.,  100.,  200.],\n",
    "\t\t[  0.,  125.,  255.],\n",
    "\t\t[100.,    0.,  100.],\n",
    "\t\t[150.,    0.,  150.],\n",
    "        [200.,    0.,  200.],\n",
    "        [255.,    0.,  255.]]\n",
    "\n",
    "colors = np.divide(np.array(colors), 255)\n",
    "print(colors)"
   ]
  },
  {
   "cell_type": "code",
   "execution_count": 213,
   "metadata": {
    "collapsed": true
   },
   "outputs": [],
   "source": [
    "def getImageData(image, pos, resize_ratio_x, resize_ratio_y, name):\n",
    "    \n",
    "    newpos_x = pos[:,0] / resize_ratio_x\n",
    "    newpos_y = pos[:,1] / resize_ratio_y\n",
    "    \n",
    "    top_left_x = np.amin(newpos_x) - 2\n",
    "    top_left_y = np.amin(newpos_y) - 2\n",
    "    \n",
    "    width = np.amax(newpos_x) - top_left_x + 2\n",
    "    height = np.amax(newpos_y) - top_left_y + 2\n",
    "\n",
    "    return top_left_x, top_left_y, width, height"
   ]
  },
  {
   "cell_type": "code",
   "execution_count": 214,
   "metadata": {
    "collapsed": true
   },
   "outputs": [],
   "source": [
    "def getCropImageData(image, pos,  name):\n",
    "    \n",
    "    top_left_x = np.amin(pos[:,0]) - 10\n",
    "    top_left_y = np.amin(pos[:,1]) - 10\n",
    "    \n",
    "    width = np.amax(pos[:,0]) - top_left_x + 20\n",
    "    height = np.amax(pos[:,1]) - top_left_y + 20\n",
    "\n",
    "\n",
    "    return int(top_left_x), int(top_left_y), int(width), int(height)"
   ]
  },
  {
   "cell_type": "code",
   "execution_count": 215,
   "metadata": {
    "collapsed": true
   },
   "outputs": [],
   "source": [
    "def plotImageData(image, annotation_data, resize_ratio_x, resize_ratio_y, name):\n",
    "    plt.figure(figsize=(20,10))\n",
    "#     image = rgb2gray(image)\n",
    "    plt.imshow(image)\n",
    "    pos = np.array(annotation_data[name])\n",
    "    \n",
    "    pos[:,0] /= resize_ratio_x\n",
    "    pos[:,1] /= resize_ratio_y\n",
    "    \n",
    "    top_left_x = np.amin(pos[:,0]) - 2\n",
    "    top_left_y = np.amin(pos[:,1]) - 2\n",
    "    \n",
    "    width = np.amax(pos[:,0]) - top_left_x + 2\n",
    "    height = np.amax(pos[:,1]) - top_left_y + 2\n",
    "\n",
    "    \n",
    "    rect = patches.Rectangle((top_left_x,top_left_y),width,height,linewidth=1,edgecolor='r',facecolor='none')\n",
    "    \n",
    "    plt.gca().add_patch(rect)\n",
    "    \n",
    "    plt.scatter(x=pos[:, 0], y=pos[:, 1], c=colors, s=10, alpha=0.7)\n",
    "    plt.show()\n",
    "    "
   ]
  },
  {
   "cell_type": "code",
   "execution_count": 216,
   "metadata": {},
   "outputs": [],
   "source": [
    "def load_part_data(names, data_directory, annotation_data):\n",
    "\n",
    "    reshaped_x = 180\n",
    "    reshaped_y = 320\n",
    "    cropped_resize_x = 130\n",
    "    cropped_resize_y = 130\n",
    "    \n",
    "    allImages = np.empty((len(names), reshaped_x, reshaped_y, 3))\n",
    "    allCroppedImages = np.empty((len(names), cropped_resize_x, cropped_resize_y, 3))\n",
    "    allBoxs = np.empty((len(names), 4))\n",
    "    allLabels = []\n",
    "    \n",
    "    for i in range(len(names)):\n",
    "        name = names[i]\n",
    "        label = 0 if name[-1] == 'L' else 1\n",
    "            \n",
    "        image = imread(data_directory + \"/\" + name[:-2] + \".jpg\")\n",
    "        pos = np.array(annotation_data[name])\n",
    "\n",
    "        resize_ratio_x = image.shape[0] / reshaped_x\n",
    "        resize_ratio_y = image.shape[1] / reshaped_y\n",
    "        resized_image = resize(image, (reshaped_x, reshaped_y, 3))\n",
    "        \n",
    "        top_x, top_y, width, height = getImageData(image, pos, \n",
    "                                                          resize_ratio_x, resize_ratio_y, name)        \n",
    "        boundingBox = np.array([top_x, top_y, width, height])\n",
    "        \n",
    "        newLabel = np.array([label])\n",
    "        \n",
    "        allImages[i] = resized_image\n",
    "        allBoxs[i] = boundingBox\n",
    "        \n",
    "        allLabels.append(newLabel) \n",
    "        \n",
    "        \n",
    "        \n",
    "        top_x, top_y, width, height = getCropImageData(image, pos, name)    \n",
    "        \n",
    "        cropped_image = image[top_y: top_y + height, top_x: top_x + width, :]\n",
    "        \n",
    "        cropped_image = resize(cropped_image, (cropped_resize_x, cropped_resize_y, 3))\n",
    "        allCroppedImages[i] = cropped_image\n",
    "        \n",
    "    \n",
    "    print(allImages.shape)\n",
    "    print(allBoxs.shape)\n",
    "    \n",
    "    return allImages, allCroppedImages, np.concatenate(allLabels), allBoxs\n",
    "        \n"
   ]
  },
  {
   "cell_type": "code",
   "execution_count": 217,
   "metadata": {},
   "outputs": [],
   "source": [
    "def load_data(data_directory, annotation_data):\n",
    "    names = list(annotation_data.keys())\n",
    "\n",
    "    print(\"Get train\")\n",
    "    train_data = np.array(names[:1000])\n",
    "    X_train, X_crop_train, Y_train_label, Y_train_box = load_part_data(train_data, data_directory, annotation_data)\n",
    "    \n",
    "    \n",
    "    print(\"Get valid\")\n",
    "    valid_data = np.array(names[2000:2500])\n",
    "    X_val, X_crop_val, Y_val_label, Y_val_box = load_part_data(valid_data, data_directory, annotation_data)\n",
    "    \n",
    "    print(\"Get test\")\n",
    "    test_data = np.array(names[3000:3500])\n",
    "    X_test, X_crop_test, Y_test_label, Y_test_box = load_part_data(test_data, data_directory, annotation_data)\n",
    "    \n",
    "    mean_image = np.mean(X_train, axis=0)\n",
    "\n",
    "    X_train -= mean_image\n",
    "    X_val -= mean_image\n",
    "    X_test -= mean_image\n",
    "    \n",
    "    \"\"\"\n",
    "    for name in names:\n",
    "        if count > 10:\n",
    "            break\n",
    "        image = imread(data_directory + \"/\" + name[:-2] + \".jpg\")\n",
    "        label, top_x, top_y, width, height = getImageData(image, annotation_data, name)\n",
    "        plotImageData(image, annotation_data, name)\n",
    "        count += 1    \n",
    "    \"\"\"\n",
    "    \n",
    "    return (X_train, X_crop_train, Y_train_label, Y_train_box, \n",
    "            X_val, X_crop_val, Y_val_label, Y_val_box, \n",
    "            X_test, X_crop_test, Y_test_label, Y_test_box)\n",
    "\n",
    "            "
   ]
  },
  {
   "cell_type": "code",
   "execution_count": 218,
   "metadata": {
    "scrolled": false
   },
   "outputs": [
    {
     "name": "stdout",
     "output_type": "stream",
     "text": [
      "Get train\n"
     ]
    },
    {
     "name": "stderr",
     "output_type": "stream",
     "text": [
      "C:\\Users\\Wei Han Chen\\AppData\\Local\\conda\\conda\\envs\\tensorflow\\lib\\site-packages\\skimage\\transform\\_warps.py:84: UserWarning: The default mode, 'constant', will be changed to 'reflect' in skimage 0.15.\n",
      "  warn(\"The default mode, 'constant', will be changed to 'reflect' in \"\n"
     ]
    },
    {
     "name": "stdout",
     "output_type": "stream",
     "text": [
      "(1000, 180, 320, 3)\n",
      "(1000, 4)\n",
      "Get valid\n",
      "(500, 180, 320, 3)\n",
      "(500, 4)\n",
      "Get test\n",
      "(500, 180, 320, 3)\n",
      "(500, 4)\n"
     ]
    }
   ],
   "source": [
    "(X_train, X_crop_train, Y_train_label, Y_train_box, \n",
    " X_val, X_crop_val, Y_val_label, Y_val_box, \n",
    " X_test, X_crop_test, Y_test_label, Y_test_box) = load_data(image_data_directory, annotation_data)"
   ]
  },
  {
   "cell_type": "code",
   "execution_count": 219,
   "metadata": {},
   "outputs": [
    {
     "name": "stdout",
     "output_type": "stream",
     "text": [
      "(1000, 180, 320, 3)\n",
      "(1000, 130, 130, 3)\n",
      "(1000,)\n",
      "(1000, 4)\n",
      "(500, 180, 320, 3)\n",
      "(500, 130, 130, 3)\n",
      "(500,)\n",
      "(500, 4)\n",
      "(500, 180, 320, 3)\n",
      "(500, 130, 130, 3)\n",
      "(500,)\n",
      "(500, 4)\n"
     ]
    }
   ],
   "source": [
    "print(X_train.shape)\n",
    "print(X_crop_train.shape)\n",
    "print(Y_train_label.shape)\n",
    "print(Y_train_box.shape)\n",
    "\n",
    "print(X_val.shape)\n",
    "print(X_crop_val.shape)\n",
    "print(Y_val_label.shape)\n",
    "print(Y_val_box.shape)\n",
    "\n",
    "print(X_test.shape)\n",
    "print(X_crop_test.shape)\n",
    "print(Y_test_label.shape)\n",
    "print(Y_test_box.shape)"
   ]
  },
  {
   "cell_type": "markdown",
   "metadata": {},
   "source": [
    "# Image Model\n",
    "\n",
    "image data will have size N x W x H\n",
    "\n",
    "N = number of images\n",
    "W = width\n",
    "H = height\n",
    "\n",
    "notice that we dont have any a new dimension C that contains RGB values because RGB values\n",
    "wont affect much in this case.\n",
    "\n"
   ]
  },
  {
   "cell_type": "code",
   "execution_count": 12,
   "metadata": {
    "collapsed": true
   },
   "outputs": [],
   "source": []
  },
  {
   "cell_type": "code",
   "execution_count": 13,
   "metadata": {
    "collapsed": true
   },
   "outputs": [],
   "source": []
  },
  {
   "cell_type": "code",
   "execution_count": 14,
   "metadata": {
    "collapsed": true
   },
   "outputs": [],
   "source": [
    "# remove old variables\n",
    "\n",
    "tf.reset_default_graph()\n",
    "X = tf.placeholder(tf.float32, [None, 1080, 1920])\n",
    "Y_label = tf.placeholder(tf.int32, [None])\n",
    "Y_box_pos = tf.placeholder(tf.int32, [None, 4])\n",
    "is_training = tf.placeholder(tf.bool)\n"
   ]
  },
  {
   "cell_type": "code",
   "execution_count": null,
   "metadata": {},
   "outputs": [],
   "source": []
  },
  {
   "cell_type": "code",
   "execution_count": null,
   "metadata": {},
   "outputs": [],
   "source": []
  },
  {
   "cell_type": "code",
   "execution_count": 221,
   "metadata": {},
   "outputs": [
    {
     "data": {
      "text/plain": [
       "'channels_last'"
      ]
     },
     "execution_count": 221,
     "metadata": {},
     "output_type": "execute_result"
    }
   ],
   "source": [
    "tf.keras.backend.image_data_format()"
   ]
  },
  {
   "cell_type": "code",
   "execution_count": null,
   "metadata": {},
   "outputs": [],
   "source": []
  },
  {
   "cell_type": "code",
   "execution_count": null,
   "metadata": {},
   "outputs": [],
   "source": []
  },
  {
   "cell_type": "code",
   "execution_count": null,
   "metadata": {},
   "outputs": [],
   "source": []
  },
  {
   "cell_type": "code",
   "execution_count": null,
   "metadata": {
    "collapsed": true
   },
   "outputs": [],
   "source": []
  },
  {
   "cell_type": "code",
   "execution_count": null,
   "metadata": {},
   "outputs": [],
   "source": []
  },
  {
   "cell_type": "code",
   "execution_count": null,
   "metadata": {
    "collapsed": true
   },
   "outputs": [],
   "source": []
  },
  {
   "cell_type": "code",
   "execution_count": null,
   "metadata": {
    "collapsed": true
   },
   "outputs": [],
   "source": []
  }
 ],
 "metadata": {
  "kernelspec": {
   "display_name": "Python [conda env:tensorflow]",
   "language": "python",
   "name": "conda-env-tensorflow-py"
  },
  "language_info": {
   "codemirror_mode": {
    "name": "ipython",
    "version": 3
   },
   "file_extension": ".py",
   "mimetype": "text/x-python",
   "name": "python",
   "nbconvert_exporter": "python",
   "pygments_lexer": "ipython3",
   "version": "3.6.5"
  }
 },
 "nbformat": 4,
 "nbformat_minor": 2
}
